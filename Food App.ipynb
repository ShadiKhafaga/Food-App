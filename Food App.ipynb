{
 "cells": [
  {
   "cell_type": "markdown",
   "id": "0907b642",
   "metadata": {},
   "source": [
    "# Food App\n",
    "\n",
    "In this project, we will be working in a company that sells food product and we will  investigate user behavior for the company's app.  \n",
    "First, we will study the sales funnel, find out how users reach the purchase stage. As well as how many users actually make it to this stage, and how many get stuck at previous stages.  \n",
    "Then we will have a look at the results of an A/A/B test that were concluded in order to make a decision regarding to change the fonts for the entire app.   \n",
    "\n",
    "The users are split into three groups: two control groups get the old fonts and one test group gets the new ones. We will try to find out which set of fonts produces better results.  \n",
    "\n",
    "Creating two A groups has certain advantages. We can make it a principle that we will only be confident in the accuracy of our testing when the two control groups are similar. If there are significant differences between the A groups, this can help us uncover factors that may be distorting the results. Comparing control groups also tells us how much time and data we'll need when running further tests.\n",
    "\n",
    "We'll be using the same dataset for general analytics and for A/A/B analysis."
   ]
  },
  {
   "cell_type": "markdown",
   "id": "e3cfe639",
   "metadata": {},
   "source": [
    "## Table of Content\n",
    "1. [Importing Libraries and Reading Files](#import)  \n",
    "\n",
    "\n",
    "2. [Data Pre-processing](#preprocessing)  \n",
    "    2.1. [Duplicates](#dup)  \n",
    "    \n",
    "\n",
    "3. [Study And Check The Data](#3)  \n",
    "    3.1. [Number of Events](#3.1)  \n",
    "    3.2. [Number of Users](#3.2)  \n",
    "    3.3. [Average Number of Events per User](#3.3)  \n",
    "    3.4. [Relevant Time Period](#3.4)  \n",
    "    3.5. [Relevant data Share](#3.5)  \n",
    "    3.6. [Experimental groups](#3.6)  \n",
    "    \n",
    "\n",
    "4. [Funnel Research](#4)  \n",
    "    4.1. [Frequency of Occurence of Events](#4.1)  \n",
    "    4.2. [Share of Occurence per Event](#4.2)  \n",
    "    4.3. [Sequence of Actions](#4.3)  \n",
    "    4.4. [The share of users converting - The Funnel](#4.4)  \n",
    "  \n",
    "\n",
    "5. [Experiment Results](#5)  \n",
    "    5.1. [Number of Users in Groups](#5.1)  \n",
    "    5.2. [A\\A Test](#5.2)  \n",
    "    5.3. [A\\B Test](#5.3)  \n",
    "    5.4. [A\\A\\B Test](#5.4)  \n",
    "    5.5. [Conclusions](#conclusions)  \n",
    "    5.6. [The Benforroni Correction](#5.5)  \n",
    "\n",
    "    \n",
    "    \n",
    "\n",
    "\n",
    "\n"
   ]
  },
  {
   "cell_type": "markdown",
   "id": "f611fa65",
   "metadata": {},
   "source": [
    "### 1. Importing libraries and reading data files <a id=\"import\"></a> "
   ]
  },
  {
   "cell_type": "code",
   "execution_count": 1,
   "id": "3513f853",
   "metadata": {},
   "outputs": [
    {
     "name": "stdout",
     "output_type": "stream",
     "text": [
      "Requirement already satisfied: plotly in c:\\users\\shady\\anaconda3\\lib\\site-packages (5.9.0)\n",
      "Requirement already satisfied: tenacity>=6.2.0 in c:\\users\\shady\\anaconda3\\lib\\site-packages (from plotly) (8.0.1)\n",
      "Requirement already satisfied: kaleido in c:\\users\\shady\\anaconda3\\lib\\site-packages (0.2.1)\n"
     ]
    }
   ],
   "source": [
    "# Importing libraries\n",
    "import pandas as pd\n",
    "import datetime as dt\n",
    "import sys\n",
    "!{sys.executable} -m pip install plotly\n",
    "!pip install -U kaleido\n",
    "import kaleido\n",
    "import plotly.express as px\n",
    "import plotly.graph_objects as go\n",
    "import math\n",
    "from scipy import stats as st\n",
    "from statsmodels.stats.proportion import proportions_ztest\n",
    "from IPython.display import Markdown, display"
   ]
  },
  {
   "cell_type": "code",
   "execution_count": 2,
   "id": "4c0f0cdc",
   "metadata": {},
   "outputs": [],
   "source": [
    "# reading datasets and storing them into variables\n",
    "try:\n",
    "    logs_df = pd.read_csv('datasets/logs_exp_us.csv', sep='\\t')\n",
    "except:\n",
    "    logs_df = pd.read_csv('/datasets/logs_exp_us.csv', sep='\\t')"
   ]
  },
  {
   "cell_type": "code",
   "execution_count": 3,
   "id": "11c00d41",
   "metadata": {},
   "outputs": [
    {
     "data": {
      "text/html": [
       "<div>\n",
       "<style scoped>\n",
       "    .dataframe tbody tr th:only-of-type {\n",
       "        vertical-align: middle;\n",
       "    }\n",
       "\n",
       "    .dataframe tbody tr th {\n",
       "        vertical-align: top;\n",
       "    }\n",
       "\n",
       "    .dataframe thead th {\n",
       "        text-align: right;\n",
       "    }\n",
       "</style>\n",
       "<table border=\"1\" class=\"dataframe\">\n",
       "  <thead>\n",
       "    <tr style=\"text-align: right;\">\n",
       "      <th></th>\n",
       "      <th>EventName</th>\n",
       "      <th>DeviceIDHash</th>\n",
       "      <th>EventTimestamp</th>\n",
       "      <th>ExpId</th>\n",
       "    </tr>\n",
       "  </thead>\n",
       "  <tbody>\n",
       "    <tr>\n",
       "      <th>0</th>\n",
       "      <td>MainScreenAppear</td>\n",
       "      <td>4575588528974610257</td>\n",
       "      <td>1564029816</td>\n",
       "      <td>246</td>\n",
       "    </tr>\n",
       "    <tr>\n",
       "      <th>1</th>\n",
       "      <td>MainScreenAppear</td>\n",
       "      <td>7416695313311560658</td>\n",
       "      <td>1564053102</td>\n",
       "      <td>246</td>\n",
       "    </tr>\n",
       "    <tr>\n",
       "      <th>2</th>\n",
       "      <td>PaymentScreenSuccessful</td>\n",
       "      <td>3518123091307005509</td>\n",
       "      <td>1564054127</td>\n",
       "      <td>248</td>\n",
       "    </tr>\n",
       "    <tr>\n",
       "      <th>3</th>\n",
       "      <td>CartScreenAppear</td>\n",
       "      <td>3518123091307005509</td>\n",
       "      <td>1564054127</td>\n",
       "      <td>248</td>\n",
       "    </tr>\n",
       "    <tr>\n",
       "      <th>4</th>\n",
       "      <td>PaymentScreenSuccessful</td>\n",
       "      <td>6217807653094995999</td>\n",
       "      <td>1564055322</td>\n",
       "      <td>248</td>\n",
       "    </tr>\n",
       "  </tbody>\n",
       "</table>\n",
       "</div>"
      ],
      "text/plain": [
       "                 EventName         DeviceIDHash  EventTimestamp  ExpId\n",
       "0         MainScreenAppear  4575588528974610257      1564029816    246\n",
       "1         MainScreenAppear  7416695313311560658      1564053102    246\n",
       "2  PaymentScreenSuccessful  3518123091307005509      1564054127    248\n",
       "3         CartScreenAppear  3518123091307005509      1564054127    248\n",
       "4  PaymentScreenSuccessful  6217807653094995999      1564055322    248"
      ]
     },
     "execution_count": 3,
     "metadata": {},
     "output_type": "execute_result"
    }
   ],
   "source": [
    "# Lets' have a look at the data:\n",
    "logs_df.head()"
   ]
  },
  {
   "cell_type": "code",
   "execution_count": 4,
   "id": "729e24f4",
   "metadata": {},
   "outputs": [
    {
     "name": "stdout",
     "output_type": "stream",
     "text": [
      "<class 'pandas.core.frame.DataFrame'>\n",
      "RangeIndex: 244126 entries, 0 to 244125\n",
      "Data columns (total 4 columns):\n",
      " #   Column          Non-Null Count   Dtype \n",
      "---  ------          --------------   ----- \n",
      " 0   EventName       244126 non-null  object\n",
      " 1   DeviceIDHash    244126 non-null  int64 \n",
      " 2   EventTimestamp  244126 non-null  int64 \n",
      " 3   ExpId           244126 non-null  int64 \n",
      "dtypes: int64(3), object(1)\n",
      "memory usage: 7.5+ MB\n"
     ]
    }
   ],
   "source": [
    "# checking the info:\n",
    "logs_df.info()"
   ]
  },
  {
   "cell_type": "markdown",
   "id": "6b40803c",
   "metadata": {},
   "source": [
    "### 2. Data Pre-Processing <a id=\"preprocessing\"></a> "
   ]
  },
  {
   "cell_type": "code",
   "execution_count": 5,
   "id": "ab649132",
   "metadata": {},
   "outputs": [
    {
     "data": {
      "text/html": [
       "<div>\n",
       "<style scoped>\n",
       "    .dataframe tbody tr th:only-of-type {\n",
       "        vertical-align: middle;\n",
       "    }\n",
       "\n",
       "    .dataframe tbody tr th {\n",
       "        vertical-align: top;\n",
       "    }\n",
       "\n",
       "    .dataframe thead th {\n",
       "        text-align: right;\n",
       "    }\n",
       "</style>\n",
       "<table border=\"1\" class=\"dataframe\">\n",
       "  <thead>\n",
       "    <tr style=\"text-align: right;\">\n",
       "      <th></th>\n",
       "      <th>event_name</th>\n",
       "      <th>device_id</th>\n",
       "      <th>event_timestamp</th>\n",
       "      <th>group_id</th>\n",
       "    </tr>\n",
       "  </thead>\n",
       "  <tbody>\n",
       "    <tr>\n",
       "      <th>0</th>\n",
       "      <td>MainScreenAppear</td>\n",
       "      <td>4575588528974610257</td>\n",
       "      <td>1564029816</td>\n",
       "      <td>246</td>\n",
       "    </tr>\n",
       "    <tr>\n",
       "      <th>1</th>\n",
       "      <td>MainScreenAppear</td>\n",
       "      <td>7416695313311560658</td>\n",
       "      <td>1564053102</td>\n",
       "      <td>246</td>\n",
       "    </tr>\n",
       "    <tr>\n",
       "      <th>2</th>\n",
       "      <td>PaymentScreenSuccessful</td>\n",
       "      <td>3518123091307005509</td>\n",
       "      <td>1564054127</td>\n",
       "      <td>248</td>\n",
       "    </tr>\n",
       "    <tr>\n",
       "      <th>3</th>\n",
       "      <td>CartScreenAppear</td>\n",
       "      <td>3518123091307005509</td>\n",
       "      <td>1564054127</td>\n",
       "      <td>248</td>\n",
       "    </tr>\n",
       "    <tr>\n",
       "      <th>4</th>\n",
       "      <td>PaymentScreenSuccessful</td>\n",
       "      <td>6217807653094995999</td>\n",
       "      <td>1564055322</td>\n",
       "      <td>248</td>\n",
       "    </tr>\n",
       "  </tbody>\n",
       "</table>\n",
       "</div>"
      ],
      "text/plain": [
       "                event_name            device_id  event_timestamp  group_id\n",
       "0         MainScreenAppear  4575588528974610257       1564029816       246\n",
       "1         MainScreenAppear  7416695313311560658       1564053102       246\n",
       "2  PaymentScreenSuccessful  3518123091307005509       1564054127       248\n",
       "3         CartScreenAppear  3518123091307005509       1564054127       248\n",
       "4  PaymentScreenSuccessful  6217807653094995999       1564055322       248"
      ]
     },
     "execution_count": 5,
     "metadata": {},
     "output_type": "execute_result"
    }
   ],
   "source": [
    "# Renaming columns:\n",
    "logs_df.columns = ['event_name','device_id','event_timestamp','group_id']\n",
    "logs_df.head()"
   ]
  },
  {
   "cell_type": "code",
   "execution_count": 6,
   "id": "2ef6ce23",
   "metadata": {},
   "outputs": [
    {
     "data": {
      "text/html": [
       "<div>\n",
       "<style scoped>\n",
       "    .dataframe tbody tr th:only-of-type {\n",
       "        vertical-align: middle;\n",
       "    }\n",
       "\n",
       "    .dataframe tbody tr th {\n",
       "        vertical-align: top;\n",
       "    }\n",
       "\n",
       "    .dataframe thead th {\n",
       "        text-align: right;\n",
       "    }\n",
       "</style>\n",
       "<table border=\"1\" class=\"dataframe\">\n",
       "  <thead>\n",
       "    <tr style=\"text-align: right;\">\n",
       "      <th></th>\n",
       "      <th>event_name</th>\n",
       "      <th>device_id</th>\n",
       "      <th>event_timestamp</th>\n",
       "      <th>group_id</th>\n",
       "      <th>event_datetime</th>\n",
       "    </tr>\n",
       "  </thead>\n",
       "  <tbody>\n",
       "    <tr>\n",
       "      <th>0</th>\n",
       "      <td>MainScreenAppear</td>\n",
       "      <td>4575588528974610257</td>\n",
       "      <td>1564029816</td>\n",
       "      <td>246</td>\n",
       "      <td>2019-07-25 04:43:36</td>\n",
       "    </tr>\n",
       "    <tr>\n",
       "      <th>1</th>\n",
       "      <td>MainScreenAppear</td>\n",
       "      <td>7416695313311560658</td>\n",
       "      <td>1564053102</td>\n",
       "      <td>246</td>\n",
       "      <td>2019-07-25 11:11:42</td>\n",
       "    </tr>\n",
       "    <tr>\n",
       "      <th>2</th>\n",
       "      <td>PaymentScreenSuccessful</td>\n",
       "      <td>3518123091307005509</td>\n",
       "      <td>1564054127</td>\n",
       "      <td>248</td>\n",
       "      <td>2019-07-25 11:28:47</td>\n",
       "    </tr>\n",
       "    <tr>\n",
       "      <th>3</th>\n",
       "      <td>CartScreenAppear</td>\n",
       "      <td>3518123091307005509</td>\n",
       "      <td>1564054127</td>\n",
       "      <td>248</td>\n",
       "      <td>2019-07-25 11:28:47</td>\n",
       "    </tr>\n",
       "    <tr>\n",
       "      <th>4</th>\n",
       "      <td>PaymentScreenSuccessful</td>\n",
       "      <td>6217807653094995999</td>\n",
       "      <td>1564055322</td>\n",
       "      <td>248</td>\n",
       "      <td>2019-07-25 11:48:42</td>\n",
       "    </tr>\n",
       "  </tbody>\n",
       "</table>\n",
       "</div>"
      ],
      "text/plain": [
       "                event_name            device_id  event_timestamp  group_id  \\\n",
       "0         MainScreenAppear  4575588528974610257       1564029816       246   \n",
       "1         MainScreenAppear  7416695313311560658       1564053102       246   \n",
       "2  PaymentScreenSuccessful  3518123091307005509       1564054127       248   \n",
       "3         CartScreenAppear  3518123091307005509       1564054127       248   \n",
       "4  PaymentScreenSuccessful  6217807653094995999       1564055322       248   \n",
       "\n",
       "       event_datetime  \n",
       "0 2019-07-25 04:43:36  \n",
       "1 2019-07-25 11:11:42  \n",
       "2 2019-07-25 11:28:47  \n",
       "3 2019-07-25 11:28:47  \n",
       "4 2019-07-25 11:48:42  "
      ]
     },
     "execution_count": 6,
     "metadata": {},
     "output_type": "execute_result"
    }
   ],
   "source": [
    "# Adding date columns:\n",
    "logs_df['event_datetime'] = pd.to_datetime(logs_df['event_timestamp'], unit='s')\n",
    "logs_df.head()"
   ]
  },
  {
   "cell_type": "markdown",
   "id": "33b14c46",
   "metadata": {},
   "source": [
    "#### Duplicates <a id='dup'></a>"
   ]
  },
  {
   "cell_type": "code",
   "execution_count": 7,
   "id": "3695225f",
   "metadata": {},
   "outputs": [
    {
     "name": "stdout",
     "output_type": "stream",
     "text": [
      "We have 413 duplicates. And they form 0.169% of our dataset.\n"
     ]
    }
   ],
   "source": [
    "# Checking how many duplicates we have:\n",
    "dup = logs_df.duplicated().sum()\n",
    "print('We have {} duplicates. And they form {:.3%} of our dataset.'.format(dup, dup/len(logs_df)))"
   ]
  },
  {
   "cell_type": "code",
   "execution_count": 8,
   "id": "fe1ac3c0",
   "metadata": {},
   "outputs": [
    {
     "data": {
      "text/html": [
       "<div>\n",
       "<style scoped>\n",
       "    .dataframe tbody tr th:only-of-type {\n",
       "        vertical-align: middle;\n",
       "    }\n",
       "\n",
       "    .dataframe tbody tr th {\n",
       "        vertical-align: top;\n",
       "    }\n",
       "\n",
       "    .dataframe thead th {\n",
       "        text-align: right;\n",
       "    }\n",
       "</style>\n",
       "<table border=\"1\" class=\"dataframe\">\n",
       "  <thead>\n",
       "    <tr style=\"text-align: right;\">\n",
       "      <th></th>\n",
       "      <th>event_name</th>\n",
       "      <th>device_id</th>\n",
       "      <th>event_timestamp</th>\n",
       "      <th>group_id</th>\n",
       "      <th>event_datetime</th>\n",
       "    </tr>\n",
       "  </thead>\n",
       "  <tbody>\n",
       "    <tr>\n",
       "      <th>453</th>\n",
       "      <td>MainScreenAppear</td>\n",
       "      <td>5613408041324010552</td>\n",
       "      <td>1564474784</td>\n",
       "      <td>248</td>\n",
       "      <td>2019-07-30 08:19:44</td>\n",
       "    </tr>\n",
       "    <tr>\n",
       "      <th>2350</th>\n",
       "      <td>CartScreenAppear</td>\n",
       "      <td>1694940645335807244</td>\n",
       "      <td>1564609899</td>\n",
       "      <td>248</td>\n",
       "      <td>2019-07-31 21:51:39</td>\n",
       "    </tr>\n",
       "    <tr>\n",
       "      <th>3573</th>\n",
       "      <td>MainScreenAppear</td>\n",
       "      <td>434103746454591587</td>\n",
       "      <td>1564628377</td>\n",
       "      <td>248</td>\n",
       "      <td>2019-08-01 02:59:37</td>\n",
       "    </tr>\n",
       "    <tr>\n",
       "      <th>4076</th>\n",
       "      <td>MainScreenAppear</td>\n",
       "      <td>3761373764179762633</td>\n",
       "      <td>1564631266</td>\n",
       "      <td>247</td>\n",
       "      <td>2019-08-01 03:47:46</td>\n",
       "    </tr>\n",
       "    <tr>\n",
       "      <th>4803</th>\n",
       "      <td>MainScreenAppear</td>\n",
       "      <td>2835328739789306622</td>\n",
       "      <td>1564634641</td>\n",
       "      <td>248</td>\n",
       "      <td>2019-08-01 04:44:01</td>\n",
       "    </tr>\n",
       "  </tbody>\n",
       "</table>\n",
       "</div>"
      ],
      "text/plain": [
       "            event_name            device_id  event_timestamp  group_id  \\\n",
       "453   MainScreenAppear  5613408041324010552       1564474784       248   \n",
       "2350  CartScreenAppear  1694940645335807244       1564609899       248   \n",
       "3573  MainScreenAppear   434103746454591587       1564628377       248   \n",
       "4076  MainScreenAppear  3761373764179762633       1564631266       247   \n",
       "4803  MainScreenAppear  2835328739789306622       1564634641       248   \n",
       "\n",
       "          event_datetime  \n",
       "453  2019-07-30 08:19:44  \n",
       "2350 2019-07-31 21:51:39  \n",
       "3573 2019-08-01 02:59:37  \n",
       "4076 2019-08-01 03:47:46  \n",
       "4803 2019-08-01 04:44:01  "
      ]
     },
     "execution_count": 8,
     "metadata": {},
     "output_type": "execute_result"
    }
   ],
   "source": [
    "# Checking the duplicates out:\n",
    "logs_df[logs_df.duplicated()].head()"
   ]
  },
  {
   "cell_type": "code",
   "execution_count": 9,
   "id": "3cf9c531",
   "metadata": {},
   "outputs": [
    {
     "data": {
      "text/html": [
       "<div>\n",
       "<style scoped>\n",
       "    .dataframe tbody tr th:only-of-type {\n",
       "        vertical-align: middle;\n",
       "    }\n",
       "\n",
       "    .dataframe tbody tr th {\n",
       "        vertical-align: top;\n",
       "    }\n",
       "\n",
       "    .dataframe thead th {\n",
       "        text-align: right;\n",
       "    }\n",
       "</style>\n",
       "<table border=\"1\" class=\"dataframe\">\n",
       "  <thead>\n",
       "    <tr style=\"text-align: right;\">\n",
       "      <th></th>\n",
       "      <th>event_name</th>\n",
       "      <th>device_id</th>\n",
       "      <th>event_timestamp</th>\n",
       "      <th>group_id</th>\n",
       "      <th>event_datetime</th>\n",
       "    </tr>\n",
       "  </thead>\n",
       "  <tbody>\n",
       "    <tr>\n",
       "      <th>452</th>\n",
       "      <td>MainScreenAppear</td>\n",
       "      <td>5613408041324010552</td>\n",
       "      <td>1564474784</td>\n",
       "      <td>248</td>\n",
       "      <td>2019-07-30 08:19:44</td>\n",
       "    </tr>\n",
       "    <tr>\n",
       "      <th>453</th>\n",
       "      <td>MainScreenAppear</td>\n",
       "      <td>5613408041324010552</td>\n",
       "      <td>1564474784</td>\n",
       "      <td>248</td>\n",
       "      <td>2019-07-30 08:19:44</td>\n",
       "    </tr>\n",
       "  </tbody>\n",
       "</table>\n",
       "</div>"
      ],
      "text/plain": [
       "           event_name            device_id  event_timestamp  group_id  \\\n",
       "452  MainScreenAppear  5613408041324010552       1564474784       248   \n",
       "453  MainScreenAppear  5613408041324010552       1564474784       248   \n",
       "\n",
       "         event_datetime  \n",
       "452 2019-07-30 08:19:44  \n",
       "453 2019-07-30 08:19:44  "
      ]
     },
     "execution_count": 9,
     "metadata": {},
     "output_type": "execute_result"
    }
   ],
   "source": [
    "# Let's see the first item for example:\n",
    "logs_df[logs_df.event_timestamp==1564474784]"
   ]
  },
  {
   "cell_type": "markdown",
   "id": "aaf3f96c",
   "metadata": {},
   "source": [
    "**We can see that the same event happened in the exact same second**  \n",
    "We will check how the duplicated events is scattered among the dataset"
   ]
  },
  {
   "cell_type": "code",
   "execution_count": 10,
   "id": "40d31f33",
   "metadata": {},
   "outputs": [
    {
     "name": "stdout",
     "output_type": "stream",
     "text": [
      "event_name : 5\n",
      "device_id : 237\n",
      "event_timestamp : 352\n",
      "group_id : 3\n",
      "event_datetime : 352\n"
     ]
    }
   ],
   "source": [
    "# Check how many duplicates we have per column:\n",
    "for i in logs_df[logs_df.duplicated()].columns:\n",
    "    print(i,':', logs_df[logs_df.duplicated()][i].nunique())"
   ]
  },
  {
   "cell_type": "code",
   "execution_count": 11,
   "id": "6ac62874",
   "metadata": {},
   "outputs": [
    {
     "data": {
      "text/plain": [
       "array([datetime.date(2019, 7, 30), datetime.date(2019, 7, 31),\n",
       "       datetime.date(2019, 8, 1), datetime.date(2019, 8, 2),\n",
       "       datetime.date(2019, 8, 3), datetime.date(2019, 8, 4),\n",
       "       datetime.date(2019, 8, 5), datetime.date(2019, 8, 6),\n",
       "       datetime.date(2019, 8, 7)], dtype=object)"
      ]
     },
     "execution_count": 11,
     "metadata": {},
     "output_type": "execute_result"
    }
   ],
   "source": [
    "# Checking the unique dates in the duplicated data\n",
    "logs_df[logs_df.duplicated()]['event_datetime'].dt.date.unique()"
   ]
  },
  {
   "cell_type": "markdown",
   "id": "8904cda6",
   "metadata": {},
   "source": [
    "Duplicates are scattered between the end of July until mid August.  \n",
    "We will now check if we have duplicated in our experiment groups"
   ]
  },
  {
   "cell_type": "code",
   "execution_count": 12,
   "id": "84d0b94f",
   "metadata": {},
   "outputs": [
    {
     "data": {
      "text/html": [
       "<div>\n",
       "<style scoped>\n",
       "    .dataframe tbody tr th:only-of-type {\n",
       "        vertical-align: middle;\n",
       "    }\n",
       "\n",
       "    .dataframe tbody tr th {\n",
       "        vertical-align: top;\n",
       "    }\n",
       "\n",
       "    .dataframe thead th {\n",
       "        text-align: right;\n",
       "    }\n",
       "</style>\n",
       "<table border=\"1\" class=\"dataframe\">\n",
       "  <thead>\n",
       "    <tr style=\"text-align: right;\">\n",
       "      <th></th>\n",
       "      <th>device_id</th>\n",
       "      <th>group_id</th>\n",
       "    </tr>\n",
       "  </thead>\n",
       "  <tbody>\n",
       "  </tbody>\n",
       "</table>\n",
       "</div>"
      ],
      "text/plain": [
       "Empty DataFrame\n",
       "Columns: [device_id, group_id]\n",
       "Index: []"
      ]
     },
     "execution_count": 12,
     "metadata": {},
     "output_type": "execute_result"
    }
   ],
   "source": [
    "# Checking the experiments group:\n",
    "logs_df.groupby(['device_id'])['group_id'].nunique().reset_index().query('group_id>1')"
   ]
  },
  {
   "cell_type": "markdown",
   "id": "7448e413",
   "metadata": {},
   "source": [
    "We dont have the same user id in both groups.  \n",
    "Since we can't find any \"rules\" for the duplicates and they form only a tiny fraction from the sample we decide to drop them."
   ]
  },
  {
   "cell_type": "code",
   "execution_count": 13,
   "id": "d7fb27b5",
   "metadata": {},
   "outputs": [
    {
     "data": {
      "text/html": [
       "<div>\n",
       "<style scoped>\n",
       "    .dataframe tbody tr th:only-of-type {\n",
       "        vertical-align: middle;\n",
       "    }\n",
       "\n",
       "    .dataframe tbody tr th {\n",
       "        vertical-align: top;\n",
       "    }\n",
       "\n",
       "    .dataframe thead th {\n",
       "        text-align: right;\n",
       "    }\n",
       "</style>\n",
       "<table border=\"1\" class=\"dataframe\">\n",
       "  <thead>\n",
       "    <tr style=\"text-align: right;\">\n",
       "      <th></th>\n",
       "      <th>event_name</th>\n",
       "      <th>device_id</th>\n",
       "      <th>event_timestamp</th>\n",
       "      <th>group_id</th>\n",
       "      <th>event_datetime</th>\n",
       "    </tr>\n",
       "  </thead>\n",
       "  <tbody>\n",
       "    <tr>\n",
       "      <th>0</th>\n",
       "      <td>MainScreenAppear</td>\n",
       "      <td>4575588528974610257</td>\n",
       "      <td>1564029816</td>\n",
       "      <td>246</td>\n",
       "      <td>2019-07-25 04:43:36</td>\n",
       "    </tr>\n",
       "    <tr>\n",
       "      <th>1</th>\n",
       "      <td>MainScreenAppear</td>\n",
       "      <td>7416695313311560658</td>\n",
       "      <td>1564053102</td>\n",
       "      <td>246</td>\n",
       "      <td>2019-07-25 11:11:42</td>\n",
       "    </tr>\n",
       "    <tr>\n",
       "      <th>2</th>\n",
       "      <td>PaymentScreenSuccessful</td>\n",
       "      <td>3518123091307005509</td>\n",
       "      <td>1564054127</td>\n",
       "      <td>248</td>\n",
       "      <td>2019-07-25 11:28:47</td>\n",
       "    </tr>\n",
       "    <tr>\n",
       "      <th>4</th>\n",
       "      <td>PaymentScreenSuccessful</td>\n",
       "      <td>6217807653094995999</td>\n",
       "      <td>1564055322</td>\n",
       "      <td>248</td>\n",
       "      <td>2019-07-25 11:48:42</td>\n",
       "    </tr>\n",
       "    <tr>\n",
       "      <th>5</th>\n",
       "      <td>CartScreenAppear</td>\n",
       "      <td>6217807653094995999</td>\n",
       "      <td>1564055323</td>\n",
       "      <td>248</td>\n",
       "      <td>2019-07-25 11:48:43</td>\n",
       "    </tr>\n",
       "  </tbody>\n",
       "</table>\n",
       "</div>"
      ],
      "text/plain": [
       "                event_name            device_id  event_timestamp  group_id  \\\n",
       "0         MainScreenAppear  4575588528974610257       1564029816       246   \n",
       "1         MainScreenAppear  7416695313311560658       1564053102       246   \n",
       "2  PaymentScreenSuccessful  3518123091307005509       1564054127       248   \n",
       "4  PaymentScreenSuccessful  6217807653094995999       1564055322       248   \n",
       "5         CartScreenAppear  6217807653094995999       1564055323       248   \n",
       "\n",
       "       event_datetime  \n",
       "0 2019-07-25 04:43:36  \n",
       "1 2019-07-25 11:11:42  \n",
       "2 2019-07-25 11:28:47  \n",
       "4 2019-07-25 11:48:42  \n",
       "5 2019-07-25 11:48:43  "
      ]
     },
     "execution_count": 13,
     "metadata": {},
     "output_type": "execute_result"
    }
   ],
   "source": [
    "# Dropping duplicates:\n",
    "df = logs_df.drop_duplicates(subset=['device_id','event_timestamp'])\n",
    "df.head()"
   ]
  },
  {
   "cell_type": "markdown",
   "id": "19c0da97",
   "metadata": {},
   "source": [
    "### 3. Studying and Checking the Data <a id=\"3\"></a> "
   ]
  },
  {
   "cell_type": "markdown",
   "id": "cd2f930e",
   "metadata": {},
   "source": [
    "- **The number of events in the logs** <a id='3.1'></a> "
   ]
  },
  {
   "cell_type": "code",
   "execution_count": 14,
   "id": "9373fe8c",
   "metadata": {},
   "outputs": [
    {
     "data": {
      "text/plain": [
       "MainScreenAppear           115911\n",
       "OffersScreenAppear          46560\n",
       "CartScreenAppear            32140\n",
       "PaymentScreenSuccessful     24930\n",
       "Tutorial                     1016\n",
       "Name: event_name, dtype: int64"
      ]
     },
     "execution_count": 14,
     "metadata": {},
     "output_type": "execute_result"
    }
   ],
   "source": [
    "# Calculate the number of appearance of each of the 5 events in the logs\n",
    "df.event_name.value_counts()"
   ]
  },
  {
   "cell_type": "markdown",
   "id": "743b8a17",
   "metadata": {},
   "source": [
    "- **The number of users in the logs** <a id='3.2'></a> "
   ]
  },
  {
   "cell_type": "code",
   "execution_count": 15,
   "id": "044bbe08",
   "metadata": {},
   "outputs": [
    {
     "name": "stdout",
     "output_type": "stream",
     "text": [
      "We have 7551 events in the logs\n"
     ]
    }
   ],
   "source": [
    "# Calculate the unique number of devices in the logs:\n",
    "events_number = df['device_id'].nunique()\n",
    "print('We have {} events in the logs'.format(events_number))"
   ]
  },
  {
   "cell_type": "markdown",
   "id": "c0473825",
   "metadata": {},
   "source": [
    "- **The average number of events per user** <a id='3.3'></a>"
   ]
  },
  {
   "cell_type": "code",
   "execution_count": 16,
   "id": "835fc17b",
   "metadata": {},
   "outputs": [
    {
     "name": "stdout",
     "output_type": "stream",
     "text": [
      "We have on average 29.21 events per user\n"
     ]
    },
    {
     "data": {
      "text/html": [
       "<div>\n",
       "<style scoped>\n",
       "    .dataframe tbody tr th:only-of-type {\n",
       "        vertical-align: middle;\n",
       "    }\n",
       "\n",
       "    .dataframe tbody tr th {\n",
       "        vertical-align: top;\n",
       "    }\n",
       "\n",
       "    .dataframe thead th {\n",
       "        text-align: right;\n",
       "    }\n",
       "</style>\n",
       "<table border=\"1\" class=\"dataframe\">\n",
       "  <thead>\n",
       "    <tr style=\"text-align: right;\">\n",
       "      <th></th>\n",
       "      <th>device_id</th>\n",
       "      <th>number_of_events</th>\n",
       "    </tr>\n",
       "  </thead>\n",
       "  <tbody>\n",
       "    <tr>\n",
       "      <th>4277</th>\n",
       "      <td>5295139592252561101</td>\n",
       "      <td>13</td>\n",
       "    </tr>\n",
       "    <tr>\n",
       "      <th>5871</th>\n",
       "      <td>7247480119368198552</td>\n",
       "      <td>8</td>\n",
       "    </tr>\n",
       "    <tr>\n",
       "      <th>4710</th>\n",
       "      <td>5828159031774533786</td>\n",
       "      <td>13</td>\n",
       "    </tr>\n",
       "    <tr>\n",
       "      <th>1098</th>\n",
       "      <td>1417516282838937775</td>\n",
       "      <td>15</td>\n",
       "    </tr>\n",
       "    <tr>\n",
       "      <th>6806</th>\n",
       "      <td>8351860793733343758</td>\n",
       "      <td>11</td>\n",
       "    </tr>\n",
       "  </tbody>\n",
       "</table>\n",
       "</div>"
      ],
      "text/plain": [
       "                device_id  number_of_events\n",
       "4277  5295139592252561101                13\n",
       "5871  7247480119368198552                 8\n",
       "4710  5828159031774533786                13\n",
       "1098  1417516282838937775                15\n",
       "6806  8351860793733343758                11"
      ]
     },
     "execution_count": 16,
     "metadata": {},
     "output_type": "execute_result"
    }
   ],
   "source": [
    "event_per_user = df.groupby(['device_id'])['event_name'].count().reset_index()\n",
    "event_per_user.columns=['device_id','number_of_events']\n",
    "print('We have on average {:.2f} events per user'.format(event_per_user.number_of_events.mean()))\n",
    "event_per_user.sample(5)"
   ]
  },
  {
   "cell_type": "markdown",
   "id": "0ca6480d",
   "metadata": {},
   "source": [
    "- **Finding the relevant time period** <a id='3.4'></a>"
   ]
  },
  {
   "cell_type": "code",
   "execution_count": 17,
   "id": "8aa1b758",
   "metadata": {},
   "outputs": [
    {
     "name": "stdout",
     "output_type": "stream",
     "text": [
      "The tests start on 2019-07-25 and ends on 2019-08-07\n"
     ]
    }
   ],
   "source": [
    "# Calculating the minimum and maximum dates:\n",
    "start_date = df.event_datetime.min().date()\n",
    "end_date = df.event_datetime.max().date()\n",
    "\n",
    "print('The tests start on {} and ends on {}'.format(start_date,end_date))"
   ]
  },
  {
   "cell_type": "code",
   "execution_count": 48,
   "id": "8090e17b",
   "metadata": {},
   "outputs": [
    {
     "data": {
      "image/png": "[encoded data removed]"
     },
     "metadata": {},
     "output_type": "display_data"
    }
   ],
   "source": [
    "# Plotting histogram\n",
    "fig = px.histogram(df, x=\"event_datetime\")\n",
    "fig.show(\"png\")"
   ]
  },
  {
   "cell_type": "markdown",
   "id": "db54f0e9",
   "metadata": {},
   "source": [
    "We can see that the data start to be complete somewhere around August 1st, we will drop the data on earlier priods and see what would be the result of that."
   ]
  },
  {
   "cell_type": "code",
   "execution_count": 19,
   "id": "d2bd93f3",
   "metadata": {
    "scrolled": true
   },
   "outputs": [
    {
     "data": {
      "text/html": [
       "<div>\n",
       "<style scoped>\n",
       "    .dataframe tbody tr th:only-of-type {\n",
       "        vertical-align: middle;\n",
       "    }\n",
       "\n",
       "    .dataframe tbody tr th {\n",
       "        vertical-align: top;\n",
       "    }\n",
       "\n",
       "    .dataframe thead th {\n",
       "        text-align: right;\n",
       "    }\n",
       "</style>\n",
       "<table border=\"1\" class=\"dataframe\">\n",
       "  <thead>\n",
       "    <tr style=\"text-align: right;\">\n",
       "      <th></th>\n",
       "      <th>event_name</th>\n",
       "      <th>device_id</th>\n",
       "      <th>event_timestamp</th>\n",
       "      <th>group_id</th>\n",
       "      <th>event_datetime</th>\n",
       "    </tr>\n",
       "  </thead>\n",
       "  <tbody>\n",
       "    <tr>\n",
       "      <th>2828</th>\n",
       "      <td>Tutorial</td>\n",
       "      <td>3737462046622621720</td>\n",
       "      <td>1564618048</td>\n",
       "      <td>246</td>\n",
       "      <td>2019-08-01 00:07:28</td>\n",
       "    </tr>\n",
       "    <tr>\n",
       "      <th>2829</th>\n",
       "      <td>MainScreenAppear</td>\n",
       "      <td>3737462046622621720</td>\n",
       "      <td>1564618080</td>\n",
       "      <td>246</td>\n",
       "      <td>2019-08-01 00:08:00</td>\n",
       "    </tr>\n",
       "    <tr>\n",
       "      <th>2830</th>\n",
       "      <td>MainScreenAppear</td>\n",
       "      <td>3737462046622621720</td>\n",
       "      <td>1564618135</td>\n",
       "      <td>246</td>\n",
       "      <td>2019-08-01 00:08:55</td>\n",
       "    </tr>\n",
       "    <tr>\n",
       "      <th>2831</th>\n",
       "      <td>OffersScreenAppear</td>\n",
       "      <td>3737462046622621720</td>\n",
       "      <td>1564618138</td>\n",
       "      <td>246</td>\n",
       "      <td>2019-08-01 00:08:58</td>\n",
       "    </tr>\n",
       "    <tr>\n",
       "      <th>2832</th>\n",
       "      <td>MainScreenAppear</td>\n",
       "      <td>1433840883824088890</td>\n",
       "      <td>1564618139</td>\n",
       "      <td>247</td>\n",
       "      <td>2019-08-01 00:08:59</td>\n",
       "    </tr>\n",
       "  </tbody>\n",
       "</table>\n",
       "</div>"
      ],
      "text/plain": [
       "              event_name            device_id  event_timestamp  group_id  \\\n",
       "2828            Tutorial  3737462046622621720       1564618048       246   \n",
       "2829    MainScreenAppear  3737462046622621720       1564618080       246   \n",
       "2830    MainScreenAppear  3737462046622621720       1564618135       246   \n",
       "2831  OffersScreenAppear  3737462046622621720       1564618138       246   \n",
       "2832    MainScreenAppear  1433840883824088890       1564618139       247   \n",
       "\n",
       "          event_datetime  \n",
       "2828 2019-08-01 00:07:28  \n",
       "2829 2019-08-01 00:08:00  \n",
       "2830 2019-08-01 00:08:55  \n",
       "2831 2019-08-01 00:08:58  \n",
       "2832 2019-08-01 00:08:59  "
      ]
     },
     "execution_count": 19,
     "metadata": {},
     "output_type": "execute_result"
    }
   ],
   "source": [
    "# Creating a data set with the data starting from the first of August\n",
    "rel_data = df[df.event_datetime >= '2019-08-01']\n",
    "rel_data.head()"
   ]
  },
  {
   "cell_type": "markdown",
   "id": "cc4bbe23",
   "metadata": {},
   "source": [
    "- **Relevant data share of the original data** <a id='3.5'></a>"
   ]
  },
  {
   "cell_type": "code",
   "execution_count": 20,
   "id": "8d13b752",
   "metadata": {},
   "outputs": [
    {
     "name": "stdout",
     "output_type": "stream",
     "text": [
      "Relevant data is 98.79% of the original data which are 2659 events\n"
     ]
    }
   ],
   "source": [
    "# Checking the percentage of data loss:\n",
    "print('Relevant data is {:.2%} of the original data which are {} events'.format(len(rel_data)/len(df), len(df)-len(rel_data)))"
   ]
  },
  {
   "cell_type": "markdown",
   "id": "fc82cc52",
   "metadata": {},
   "source": [
    "- **Checking experimental groups in relevant data** <a id='3.6'></a>"
   ]
  },
  {
   "cell_type": "code",
   "execution_count": 21,
   "id": "a387d59a",
   "metadata": {},
   "outputs": [
    {
     "data": {
      "text/html": [
       "<div>\n",
       "<style scoped>\n",
       "    .dataframe tbody tr th:only-of-type {\n",
       "        vertical-align: middle;\n",
       "    }\n",
       "\n",
       "    .dataframe tbody tr th {\n",
       "        vertical-align: top;\n",
       "    }\n",
       "\n",
       "    .dataframe thead th {\n",
       "        text-align: right;\n",
       "    }\n",
       "</style>\n",
       "<table border=\"1\" class=\"dataframe\">\n",
       "  <thead>\n",
       "    <tr style=\"text-align: right;\">\n",
       "      <th></th>\n",
       "      <th>group_id</th>\n",
       "      <th>device_id</th>\n",
       "    </tr>\n",
       "  </thead>\n",
       "  <tbody>\n",
       "    <tr>\n",
       "      <th>0</th>\n",
       "      <td>246</td>\n",
       "      <td>2484</td>\n",
       "    </tr>\n",
       "    <tr>\n",
       "      <th>1</th>\n",
       "      <td>247</td>\n",
       "      <td>2513</td>\n",
       "    </tr>\n",
       "    <tr>\n",
       "      <th>2</th>\n",
       "      <td>248</td>\n",
       "      <td>2537</td>\n",
       "    </tr>\n",
       "  </tbody>\n",
       "</table>\n",
       "</div>"
      ],
      "text/plain": [
       "   group_id  device_id\n",
       "0       246       2484\n",
       "1       247       2513\n",
       "2       248       2537"
      ]
     },
     "execution_count": 21,
     "metadata": {},
     "output_type": "execute_result"
    }
   ],
   "source": [
    "# Checking we have users if all gorups\n",
    "rel_data.groupby('group_id').agg({'device_id':'nunique'}).reset_index()"
   ]
  },
  {
   "cell_type": "markdown",
   "id": "dc69877f",
   "metadata": {},
   "source": [
    "We have similar number of users in experimental group. We are good to go!"
   ]
  },
  {
   "cell_type": "markdown",
   "id": "83e9fa0d",
   "metadata": {},
   "source": [
    "### 4. Funnel Research <a id=\"4\"></a> "
   ]
  },
  {
   "cell_type": "markdown",
   "id": "95f16409",
   "metadata": {},
   "source": [
    "- **The frequency of the occurrence of events** <a id='4.1'></a>"
   ]
  },
  {
   "cell_type": "code",
   "execution_count": 22,
   "id": "613c9f19",
   "metadata": {},
   "outputs": [
    {
     "data": {
      "text/html": [
       "<div>\n",
       "<style scoped>\n",
       "    .dataframe tbody tr th:only-of-type {\n",
       "        vertical-align: middle;\n",
       "    }\n",
       "\n",
       "    .dataframe tbody tr th {\n",
       "        vertical-align: top;\n",
       "    }\n",
       "\n",
       "    .dataframe thead th {\n",
       "        text-align: right;\n",
       "    }\n",
       "</style>\n",
       "<table border=\"1\" class=\"dataframe\">\n",
       "  <thead>\n",
       "    <tr style=\"text-align: right;\">\n",
       "      <th></th>\n",
       "      <th>event_name</th>\n",
       "      <th>device_id</th>\n",
       "    </tr>\n",
       "  </thead>\n",
       "  <tbody>\n",
       "    <tr>\n",
       "      <th>1</th>\n",
       "      <td>MainScreenAppear</td>\n",
       "      <td>114155</td>\n",
       "    </tr>\n",
       "    <tr>\n",
       "      <th>2</th>\n",
       "      <td>OffersScreenAppear</td>\n",
       "      <td>46086</td>\n",
       "    </tr>\n",
       "    <tr>\n",
       "      <th>0</th>\n",
       "      <td>CartScreenAppear</td>\n",
       "      <td>31854</td>\n",
       "    </tr>\n",
       "    <tr>\n",
       "      <th>3</th>\n",
       "      <td>PaymentScreenSuccessful</td>\n",
       "      <td>24800</td>\n",
       "    </tr>\n",
       "    <tr>\n",
       "      <th>4</th>\n",
       "      <td>Tutorial</td>\n",
       "      <td>1003</td>\n",
       "    </tr>\n",
       "  </tbody>\n",
       "</table>\n",
       "</div>"
      ],
      "text/plain": [
       "                event_name  device_id\n",
       "1         MainScreenAppear     114155\n",
       "2       OffersScreenAppear      46086\n",
       "0         CartScreenAppear      31854\n",
       "3  PaymentScreenSuccessful      24800\n",
       "4                 Tutorial       1003"
      ]
     },
     "execution_count": 22,
     "metadata": {},
     "output_type": "execute_result"
    }
   ],
   "source": [
    "# Grouping by event name and sorting by frequency:\n",
    "rel_data.groupby('event_name').agg({'device_id':'count'}).reset_index().sort_values(by='device_id', ascending=False)"
   ]
  },
  {
   "cell_type": "markdown",
   "id": "3a1bb845",
   "metadata": {},
   "source": [
    "- **The share of the occurrence of each event** <a id='4.2'></a>"
   ]
  },
  {
   "cell_type": "code",
   "execution_count": 23,
   "id": "584db430",
   "metadata": {},
   "outputs": [
    {
     "data": {
      "text/html": [
       "<div>\n",
       "<style scoped>\n",
       "    .dataframe tbody tr th:only-of-type {\n",
       "        vertical-align: middle;\n",
       "    }\n",
       "\n",
       "    .dataframe tbody tr th {\n",
       "        vertical-align: top;\n",
       "    }\n",
       "\n",
       "    .dataframe thead th {\n",
       "        text-align: right;\n",
       "    }\n",
       "</style>\n",
       "<table border=\"1\" class=\"dataframe\">\n",
       "  <thead>\n",
       "    <tr style=\"text-align: right;\">\n",
       "      <th></th>\n",
       "      <th>event_name</th>\n",
       "      <th>users</th>\n",
       "      <th>%</th>\n",
       "    </tr>\n",
       "  </thead>\n",
       "  <tbody>\n",
       "    <tr>\n",
       "      <th>1</th>\n",
       "      <td>MainScreenAppear</td>\n",
       "      <td>7418</td>\n",
       "      <td>37.75</td>\n",
       "    </tr>\n",
       "    <tr>\n",
       "      <th>2</th>\n",
       "      <td>OffersScreenAppear</td>\n",
       "      <td>4586</td>\n",
       "      <td>23.34</td>\n",
       "    </tr>\n",
       "    <tr>\n",
       "      <th>0</th>\n",
       "      <td>CartScreenAppear</td>\n",
       "      <td>3488</td>\n",
       "      <td>17.75</td>\n",
       "    </tr>\n",
       "    <tr>\n",
       "      <th>3</th>\n",
       "      <td>PaymentScreenSuccessful</td>\n",
       "      <td>3316</td>\n",
       "      <td>16.88</td>\n",
       "    </tr>\n",
       "    <tr>\n",
       "      <th>4</th>\n",
       "      <td>Tutorial</td>\n",
       "      <td>840</td>\n",
       "      <td>4.28</td>\n",
       "    </tr>\n",
       "  </tbody>\n",
       "</table>\n",
       "</div>"
      ],
      "text/plain": [
       "                event_name  users      %\n",
       "1         MainScreenAppear   7418  37.75\n",
       "2       OffersScreenAppear   4586  23.34\n",
       "0         CartScreenAppear   3488  17.75\n",
       "3  PaymentScreenSuccessful   3316  16.88\n",
       "4                 Tutorial    840   4.28"
      ]
     },
     "execution_count": 23,
     "metadata": {},
     "output_type": "execute_result"
    }
   ],
   "source": [
    "# Grouping by event name and calculating the number of users and their share of all unique users\n",
    "event_nunique = rel_data.groupby('event_name').agg({'device_id':'nunique'}).reset_index().sort_values(by='device_id', ascending=False)\n",
    "event_nunique.columns = ['event_name','users']\n",
    "event_nunique['%'] = round((event_nunique.users/event_nunique.users.sum())*100,2)\n",
    "event_nunique"
   ]
  },
  {
   "cell_type": "markdown",
   "id": "597ff971",
   "metadata": {},
   "source": [
    "- **The sequence of actions** <a id='4.3'></a>\n",
    "\n",
    "According to the number of events and common sence, we suspect that the sequence of event, excluding the tutorial, is as following:  \n",
    "**MainScreenAppear -> OffersScreenAppear -> CartScreenAppear -> PaymentScreenSuccessful**  \n",
    "\n",
    "But we can actually check it according to the timestamp for each user. So let's do it"
   ]
  },
  {
   "cell_type": "code",
   "execution_count": 24,
   "id": "6c70f14e",
   "metadata": {},
   "outputs": [
    {
     "data": {
      "text/html": [
       "<div>\n",
       "<style scoped>\n",
       "    .dataframe tbody tr th:only-of-type {\n",
       "        vertical-align: middle;\n",
       "    }\n",
       "\n",
       "    .dataframe tbody tr th {\n",
       "        vertical-align: top;\n",
       "    }\n",
       "\n",
       "    .dataframe thead th {\n",
       "        text-align: right;\n",
       "    }\n",
       "</style>\n",
       "<table border=\"1\" class=\"dataframe\">\n",
       "  <thead>\n",
       "    <tr style=\"text-align: right;\">\n",
       "      <th></th>\n",
       "      <th>event_name</th>\n",
       "      <th>device_id</th>\n",
       "      <th>event_timestamp</th>\n",
       "      <th>group_id</th>\n",
       "      <th>event_datetime</th>\n",
       "    </tr>\n",
       "  </thead>\n",
       "  <tbody>\n",
       "    <tr>\n",
       "      <th>197263</th>\n",
       "      <td>MainScreenAppear</td>\n",
       "      <td>6888746892508752</td>\n",
       "      <td>1565100394</td>\n",
       "      <td>246</td>\n",
       "      <td>2019-08-06 14:06:34</td>\n",
       "    </tr>\n",
       "    <tr>\n",
       "      <th>209196</th>\n",
       "      <td>MainScreenAppear</td>\n",
       "      <td>6909561520679493</td>\n",
       "      <td>1565117574</td>\n",
       "      <td>247</td>\n",
       "      <td>2019-08-06 18:52:54</td>\n",
       "    </tr>\n",
       "    <tr>\n",
       "      <th>209199</th>\n",
       "      <td>PaymentScreenSuccessful</td>\n",
       "      <td>6909561520679493</td>\n",
       "      <td>1565117578</td>\n",
       "      <td>247</td>\n",
       "      <td>2019-08-06 18:52:58</td>\n",
       "    </tr>\n",
       "    <tr>\n",
       "      <th>209210</th>\n",
       "      <td>OffersScreenAppear</td>\n",
       "      <td>6909561520679493</td>\n",
       "      <td>1565117584</td>\n",
       "      <td>247</td>\n",
       "      <td>2019-08-06 18:53:04</td>\n",
       "    </tr>\n",
       "    <tr>\n",
       "      <th>127670</th>\n",
       "      <td>MainScreenAppear</td>\n",
       "      <td>6922444491712477</td>\n",
       "      <td>1564928373</td>\n",
       "      <td>246</td>\n",
       "      <td>2019-08-04 14:19:33</td>\n",
       "    </tr>\n",
       "  </tbody>\n",
       "</table>\n",
       "</div>"
      ],
      "text/plain": [
       "                     event_name         device_id  event_timestamp  group_id  \\\n",
       "197263         MainScreenAppear  6888746892508752       1565100394       246   \n",
       "209196         MainScreenAppear  6909561520679493       1565117574       247   \n",
       "209199  PaymentScreenSuccessful  6909561520679493       1565117578       247   \n",
       "209210       OffersScreenAppear  6909561520679493       1565117584       247   \n",
       "127670         MainScreenAppear  6922444491712477       1564928373       246   \n",
       "\n",
       "            event_datetime  \n",
       "197263 2019-08-06 14:06:34  \n",
       "209196 2019-08-06 18:52:54  \n",
       "209199 2019-08-06 18:52:58  \n",
       "209210 2019-08-06 18:53:04  \n",
       "127670 2019-08-04 14:19:33  "
      ]
     },
     "execution_count": 24,
     "metadata": {},
     "output_type": "execute_result"
    }
   ],
   "source": [
    "# Slicing the data to exclude the tutorial event:\n",
    "data = rel_data[rel_data.event_name!='Tutorial']\n",
    "\n",
    "# Sorting the data by timestamp and user\n",
    "data = data.sort_values(by=['device_id','event_timestamp'])\n",
    "data.head()"
   ]
  },
  {
   "cell_type": "markdown",
   "id": "a6cff70e",
   "metadata": {},
   "source": [
    "We will create a list with the sequence for each unique user"
   ]
  },
  {
   "cell_type": "code",
   "execution_count": 25,
   "id": "0b53ccb9",
   "metadata": {},
   "outputs": [
    {
     "data": {
      "text/plain": [
       "['MainScreenAppear', 'PaymentScreenSuccessful', 'OffersScreenAppear']"
      ]
     },
     "execution_count": 25,
     "metadata": {},
     "output_type": "execute_result"
    }
   ],
   "source": [
    "# Creating a function to apply for each row\n",
    "def sequence(user):\n",
    "    sorted_user=data[data['device_id']==user].sort_values(by=['device_id','event_timestamp'])\n",
    "    return sorted_user['event_name'].drop_duplicates().to_list()\n",
    "\n",
    "# Testing the function for user: 6909561520679493\n",
    "sequence(6909561520679493)"
   ]
  },
  {
   "cell_type": "code",
   "execution_count": 26,
   "id": "ac875d3e",
   "metadata": {},
   "outputs": [],
   "source": [
    "# Applying for all users in data frame:\n",
    "sequence_list=[]\n",
    "for i in data.device_id.unique():\n",
    "    sequence_list.append([i,sequence(i)])"
   ]
  },
  {
   "cell_type": "code",
   "execution_count": 27,
   "id": "a8ee7273",
   "metadata": {},
   "outputs": [
    {
     "data": {
      "text/html": [
       "<div>\n",
       "<style scoped>\n",
       "    .dataframe tbody tr th:only-of-type {\n",
       "        vertical-align: middle;\n",
       "    }\n",
       "\n",
       "    .dataframe tbody tr th {\n",
       "        vertical-align: top;\n",
       "    }\n",
       "\n",
       "    .dataframe thead th {\n",
       "        text-align: right;\n",
       "    }\n",
       "</style>\n",
       "<table border=\"1\" class=\"dataframe\">\n",
       "  <thead>\n",
       "    <tr style=\"text-align: right;\">\n",
       "      <th></th>\n",
       "      <th>device_id</th>\n",
       "      <th>path</th>\n",
       "    </tr>\n",
       "  </thead>\n",
       "  <tbody>\n",
       "    <tr>\n",
       "      <th>0</th>\n",
       "      <td>6888746892508752</td>\n",
       "      <td>[MainScreenAppear]</td>\n",
       "    </tr>\n",
       "    <tr>\n",
       "      <th>1</th>\n",
       "      <td>6909561520679493</td>\n",
       "      <td>[MainScreenAppear, PaymentScreenSuccessful, Of...</td>\n",
       "    </tr>\n",
       "    <tr>\n",
       "      <th>2</th>\n",
       "      <td>6922444491712477</td>\n",
       "      <td>[MainScreenAppear, PaymentScreenSuccessful, Of...</td>\n",
       "    </tr>\n",
       "    <tr>\n",
       "      <th>3</th>\n",
       "      <td>7435777799948366</td>\n",
       "      <td>[MainScreenAppear]</td>\n",
       "    </tr>\n",
       "    <tr>\n",
       "      <th>4</th>\n",
       "      <td>7702139951469979</td>\n",
       "      <td>[MainScreenAppear, OffersScreenAppear, CartScr...</td>\n",
       "    </tr>\n",
       "  </tbody>\n",
       "</table>\n",
       "</div>"
      ],
      "text/plain": [
       "          device_id                                               path\n",
       "0  6888746892508752                                 [MainScreenAppear]\n",
       "1  6909561520679493  [MainScreenAppear, PaymentScreenSuccessful, Of...\n",
       "2  6922444491712477  [MainScreenAppear, PaymentScreenSuccessful, Of...\n",
       "3  7435777799948366                                 [MainScreenAppear]\n",
       "4  7702139951469979  [MainScreenAppear, OffersScreenAppear, CartScr..."
      ]
     },
     "execution_count": 27,
     "metadata": {},
     "output_type": "execute_result"
    }
   ],
   "source": [
    "# Creating a dataframe from the list we created\n",
    "sequence_df = pd.DataFrame(sequence_list, columns=['device_id','path'])\n",
    "sequence_df.head()"
   ]
  },
  {
   "cell_type": "markdown",
   "id": "8a07e16b",
   "metadata": {},
   "source": [
    "We have a dataframe with all unique users and their sequence of events, let's check how many follows each sequence"
   ]
  },
  {
   "cell_type": "code",
   "execution_count": 28,
   "id": "ee88a1cc",
   "metadata": {},
   "outputs": [
    {
     "data": {
      "text/plain": [
       "['MainScreenAppear']                                                                         2883\n",
       "['MainScreenAppear', 'OffersScreenAppear']                                                    883\n",
       "['MainScreenAppear', 'OffersScreenAppear', 'CartScreenAppear', 'PaymentScreenSuccessful']     805\n",
       "['MainScreenAppear', 'OffersScreenAppear', 'PaymentScreenSuccessful', 'CartScreenAppear']     767\n",
       "['MainScreenAppear', 'CartScreenAppear', 'OffersScreenAppear', 'PaymentScreenSuccessful']     445\n",
       "['MainScreenAppear', 'PaymentScreenSuccessful', 'OffersScreenAppear', 'CartScreenAppear']     325\n",
       "['MainScreenAppear', 'OffersScreenAppear', 'CartScreenAppear']                                227\n",
       "['MainScreenAppear', 'PaymentScreenSuccessful', 'CartScreenAppear', 'OffersScreenAppear']     226\n",
       "['MainScreenAppear', 'OffersScreenAppear', 'PaymentScreenSuccessful']                         136\n",
       "['MainScreenAppear', 'CartScreenAppear', 'PaymentScreenSuccessful', 'OffersScreenAppear']     123\n",
       "['MainScreenAppear', 'CartScreenAppear', 'OffersScreenAppear']                                117\n",
       "['MainScreenAppear', 'PaymentScreenSuccessful', 'OffersScreenAppear']                          86\n",
       "['OffersScreenAppear', 'MainScreenAppear', 'PaymentScreenSuccessful', 'CartScreenAppear']      61\n",
       "['OffersScreenAppear', 'PaymentScreenSuccessful', 'CartScreenAppear', 'MainScreenAppear']      55\n",
       "['MainScreenAppear', 'CartScreenAppear']                                                       49\n",
       "['OffersScreenAppear', 'PaymentScreenSuccessful', 'CartScreenAppear']                          36\n",
       "['PaymentScreenSuccessful', 'CartScreenAppear', 'OffersScreenAppear', 'MainScreenAppear']      34\n",
       "['OffersScreenAppear', 'MainScreenAppear']                                                     26\n",
       "['PaymentScreenSuccessful', 'CartScreenAppear', 'OffersScreenAppear']                          26\n",
       "['OffersScreenAppear', 'CartScreenAppear', 'PaymentScreenSuccessful', 'MainScreenAppear']      26\n",
       "['OffersScreenAppear', 'MainScreenAppear', 'CartScreenAppear', 'PaymentScreenSuccessful']      22\n",
       "['CartScreenAppear', 'MainScreenAppear', 'OffersScreenAppear', 'PaymentScreenSuccessful']      19\n",
       "['OffersScreenAppear', 'CartScreenAppear', 'PaymentScreenSuccessful']                          14\n",
       "['OffersScreenAppear']                                                                         12\n",
       "['PaymentScreenSuccessful', 'CartScreenAppear', 'MainScreenAppear', 'OffersScreenAppear']      11\n",
       "['CartScreenAppear', 'MainScreenAppear', 'PaymentScreenSuccessful', 'OffersScreenAppear']      11\n",
       "['CartScreenAppear', 'OffersScreenAppear', 'PaymentScreenSuccessful']                          11\n",
       "['OffersScreenAppear', 'CartScreenAppear', 'MainScreenAppear', 'PaymentScreenSuccessful']      10\n",
       "['OffersScreenAppear', 'MainScreenAppear', 'CartScreenAppear']                                  7\n",
       "['PaymentScreenSuccessful', 'OffersScreenAppear', 'CartScreenAppear']                           7\n",
       "['CartScreenAppear', 'OffersScreenAppear', 'PaymentScreenSuccessful', 'MainScreenAppear']       6\n",
       "['OffersScreenAppear', 'MainScreenAppear', 'PaymentScreenSuccessful']                           6\n",
       "['OffersScreenAppear', 'PaymentScreenSuccessful', 'MainScreenAppear', 'CartScreenAppear']       6\n",
       "['MainScreenAppear', 'CartScreenAppear', 'PaymentScreenSuccessful']                             6\n",
       "['PaymentScreenSuccessful', 'OffersScreenAppear', 'MainScreenAppear', 'CartScreenAppear']       5\n",
       "['PaymentScreenSuccessful', 'MainScreenAppear', 'OffersScreenAppear', 'CartScreenAppear']       4\n",
       "['CartScreenAppear', 'MainScreenAppear', 'OffersScreenAppear']                                  4\n",
       "['PaymentScreenSuccessful', 'MainScreenAppear', 'OffersScreenAppear']                           4\n",
       "['MainScreenAppear', 'PaymentScreenSuccessful', 'CartScreenAppear']                             4\n",
       "['CartScreenAppear', 'OffersScreenAppear', 'MainScreenAppear', 'PaymentScreenSuccessful']       4\n",
       "['OffersScreenAppear', 'CartScreenAppear', 'MainScreenAppear']                                  4\n",
       "['CartScreenAppear', 'PaymentScreenSuccessful', 'OffersScreenAppear', 'MainScreenAppear']       3\n",
       "['MainScreenAppear', 'PaymentScreenSuccessful']                                                 2\n",
       "['CartScreenAppear', 'PaymentScreenSuccessful', 'OffersScreenAppear']                           2\n",
       "['PaymentScreenSuccessful', 'OffersScreenAppear']                                               2\n",
       "['PaymentScreenSuccessful', 'OffersScreenAppear', 'CartScreenAppear', 'MainScreenAppear']       2\n",
       "['CartScreenAppear', 'OffersScreenAppear', 'MainScreenAppear']                                  1\n",
       "['CartScreenAppear', 'PaymentScreenSuccessful', 'MainScreenAppear', 'OffersScreenAppear']       1\n",
       "['OffersScreenAppear', 'PaymentScreenSuccessful']                                               1\n",
       "['OffersScreenAppear', 'CartScreenAppear']                                                      1\n",
       "['OffersScreenAppear', 'PaymentScreenSuccessful', 'MainScreenAppear']                           1\n",
       "['PaymentScreenSuccessful', 'MainScreenAppear', 'CartScreenAppear', 'OffersScreenAppear']       1\n",
       "Name: path, dtype: Int64"
      ]
     },
     "execution_count": 28,
     "metadata": {},
     "output_type": "execute_result"
    }
   ],
   "source": [
    "sequence_df.path = sequence_df.path.astype('string')\n",
    "sequence_df.path.value_counts()"
   ]
  },
  {
   "cell_type": "markdown",
   "id": "8c7462c2",
   "metadata": {},
   "source": [
    "Out estimation was correct, we can see that most users' path was [MainScreenAppear, OffersScreenAppear, CartScreenAppear, PaymentScreenSuccessful] "
   ]
  },
  {
   "cell_type": "markdown",
   "id": "68271d41",
   "metadata": {},
   "source": [
    "- **The share of user converting to the next stage** <a id='4.4'></a>"
   ]
  },
  {
   "cell_type": "code",
   "execution_count": 29,
   "id": "fd1cad52",
   "metadata": {},
   "outputs": [
    {
     "data": {
      "text/html": [
       "<div>\n",
       "<style scoped>\n",
       "    .dataframe tbody tr th:only-of-type {\n",
       "        vertical-align: middle;\n",
       "    }\n",
       "\n",
       "    .dataframe tbody tr th {\n",
       "        vertical-align: top;\n",
       "    }\n",
       "\n",
       "    .dataframe thead th {\n",
       "        text-align: right;\n",
       "    }\n",
       "</style>\n",
       "<table border=\"1\" class=\"dataframe\">\n",
       "  <thead>\n",
       "    <tr style=\"text-align: right;\">\n",
       "      <th></th>\n",
       "      <th>event_name</th>\n",
       "      <th>users</th>\n",
       "      <th>%</th>\n",
       "    </tr>\n",
       "  </thead>\n",
       "  <tbody>\n",
       "    <tr>\n",
       "      <th>1</th>\n",
       "      <td>MainScreenAppear</td>\n",
       "      <td>7418</td>\n",
       "      <td>37.75</td>\n",
       "    </tr>\n",
       "    <tr>\n",
       "      <th>2</th>\n",
       "      <td>OffersScreenAppear</td>\n",
       "      <td>4586</td>\n",
       "      <td>23.34</td>\n",
       "    </tr>\n",
       "    <tr>\n",
       "      <th>0</th>\n",
       "      <td>CartScreenAppear</td>\n",
       "      <td>3488</td>\n",
       "      <td>17.75</td>\n",
       "    </tr>\n",
       "    <tr>\n",
       "      <th>3</th>\n",
       "      <td>PaymentScreenSuccessful</td>\n",
       "      <td>3316</td>\n",
       "      <td>16.88</td>\n",
       "    </tr>\n",
       "    <tr>\n",
       "      <th>4</th>\n",
       "      <td>Tutorial</td>\n",
       "      <td>840</td>\n",
       "      <td>4.28</td>\n",
       "    </tr>\n",
       "  </tbody>\n",
       "</table>\n",
       "</div>"
      ],
      "text/plain": [
       "                event_name  users      %\n",
       "1         MainScreenAppear   7418  37.75\n",
       "2       OffersScreenAppear   4586  23.34\n",
       "0         CartScreenAppear   3488  17.75\n",
       "3  PaymentScreenSuccessful   3316  16.88\n",
       "4                 Tutorial    840   4.28"
      ]
     },
     "execution_count": 29,
     "metadata": {},
     "output_type": "execute_result"
    }
   ],
   "source": [
    "# We already have a table with the number of users in each events\n",
    "event_nunique"
   ]
  },
  {
   "cell_type": "code",
   "execution_count": 30,
   "id": "0548167d",
   "metadata": {},
   "outputs": [
    {
     "data": {
      "text/html": [
       "<div>\n",
       "<style scoped>\n",
       "    .dataframe tbody tr th:only-of-type {\n",
       "        vertical-align: middle;\n",
       "    }\n",
       "\n",
       "    .dataframe tbody tr th {\n",
       "        vertical-align: top;\n",
       "    }\n",
       "\n",
       "    .dataframe thead th {\n",
       "        text-align: right;\n",
       "    }\n",
       "</style>\n",
       "<table border=\"1\" class=\"dataframe\">\n",
       "  <thead>\n",
       "    <tr style=\"text-align: right;\">\n",
       "      <th></th>\n",
       "      <th>event_name</th>\n",
       "      <th>users</th>\n",
       "      <th>%</th>\n",
       "      <th>pct_change</th>\n",
       "    </tr>\n",
       "  </thead>\n",
       "  <tbody>\n",
       "    <tr>\n",
       "      <th>1</th>\n",
       "      <td>MainScreenAppear</td>\n",
       "      <td>7418</td>\n",
       "      <td>37.75</td>\n",
       "      <td>NaN</td>\n",
       "    </tr>\n",
       "    <tr>\n",
       "      <th>2</th>\n",
       "      <td>OffersScreenAppear</td>\n",
       "      <td>4586</td>\n",
       "      <td>23.34</td>\n",
       "      <td>38.0</td>\n",
       "    </tr>\n",
       "    <tr>\n",
       "      <th>0</th>\n",
       "      <td>CartScreenAppear</td>\n",
       "      <td>3488</td>\n",
       "      <td>17.75</td>\n",
       "      <td>24.0</td>\n",
       "    </tr>\n",
       "    <tr>\n",
       "      <th>3</th>\n",
       "      <td>PaymentScreenSuccessful</td>\n",
       "      <td>3316</td>\n",
       "      <td>16.88</td>\n",
       "      <td>5.0</td>\n",
       "    </tr>\n",
       "    <tr>\n",
       "      <th>4</th>\n",
       "      <td>Tutorial</td>\n",
       "      <td>840</td>\n",
       "      <td>4.28</td>\n",
       "      <td>75.0</td>\n",
       "    </tr>\n",
       "  </tbody>\n",
       "</table>\n",
       "</div>"
      ],
      "text/plain": [
       "                event_name  users      %  pct_change\n",
       "1         MainScreenAppear   7418  37.75         NaN\n",
       "2       OffersScreenAppear   4586  23.34        38.0\n",
       "0         CartScreenAppear   3488  17.75        24.0\n",
       "3  PaymentScreenSuccessful   3316  16.88         5.0\n",
       "4                 Tutorial    840   4.28        75.0"
      ]
     },
     "execution_count": 30,
     "metadata": {},
     "output_type": "execute_result"
    }
   ],
   "source": [
    "# Adding a column for percental change\n",
    "event_nunique['pct_change'] = round(abs(event_nunique.users.pct_change()),2)*100\n",
    "event_nunique"
   ]
  },
  {
   "cell_type": "markdown",
   "id": "e44756ba",
   "metadata": {},
   "source": [
    "We lose 38% of users from the main screen to the offer screen. we recommend to check that!"
   ]
  },
  {
   "cell_type": "code",
   "execution_count": 31,
   "id": "e2767268",
   "metadata": {},
   "outputs": [
    {
     "data": {
      "text/html": [
       "<div>\n",
       "<style scoped>\n",
       "    .dataframe tbody tr th:only-of-type {\n",
       "        vertical-align: middle;\n",
       "    }\n",
       "\n",
       "    .dataframe tbody tr th {\n",
       "        vertical-align: top;\n",
       "    }\n",
       "\n",
       "    .dataframe thead th {\n",
       "        text-align: right;\n",
       "    }\n",
       "</style>\n",
       "<table border=\"1\" class=\"dataframe\">\n",
       "  <thead>\n",
       "    <tr style=\"text-align: right;\">\n",
       "      <th></th>\n",
       "      <th>event_name</th>\n",
       "      <th>group_id</th>\n",
       "      <th>device_id</th>\n",
       "    </tr>\n",
       "  </thead>\n",
       "  <tbody>\n",
       "    <tr>\n",
       "      <th>1</th>\n",
       "      <td>MainScreenAppear</td>\n",
       "      <td>246</td>\n",
       "      <td>2450</td>\n",
       "    </tr>\n",
       "    <tr>\n",
       "      <th>2</th>\n",
       "      <td>OffersScreenAppear</td>\n",
       "      <td>246</td>\n",
       "      <td>1541</td>\n",
       "    </tr>\n",
       "    <tr>\n",
       "      <th>0</th>\n",
       "      <td>CartScreenAppear</td>\n",
       "      <td>246</td>\n",
       "      <td>1174</td>\n",
       "    </tr>\n",
       "    <tr>\n",
       "      <th>3</th>\n",
       "      <td>PaymentScreenSuccessful</td>\n",
       "      <td>246</td>\n",
       "      <td>1122</td>\n",
       "    </tr>\n",
       "  </tbody>\n",
       "</table>\n",
       "</div>"
      ],
      "text/plain": [
       "                event_name  group_id  device_id\n",
       "1         MainScreenAppear       246       2450\n",
       "2       OffersScreenAppear       246       1541\n",
       "0         CartScreenAppear       246       1174\n",
       "3  PaymentScreenSuccessful       246       1122"
      ]
     },
     "metadata": {},
     "output_type": "display_data"
    },
    {
     "data": {
      "text/html": [
       "<div>\n",
       "<style scoped>\n",
       "    .dataframe tbody tr th:only-of-type {\n",
       "        vertical-align: middle;\n",
       "    }\n",
       "\n",
       "    .dataframe tbody tr th {\n",
       "        vertical-align: top;\n",
       "    }\n",
       "\n",
       "    .dataframe thead th {\n",
       "        text-align: right;\n",
       "    }\n",
       "</style>\n",
       "<table border=\"1\" class=\"dataframe\">\n",
       "  <thead>\n",
       "    <tr style=\"text-align: right;\">\n",
       "      <th></th>\n",
       "      <th>event_name</th>\n",
       "      <th>group_id</th>\n",
       "      <th>device_id</th>\n",
       "    </tr>\n",
       "  </thead>\n",
       "  <tbody>\n",
       "    <tr>\n",
       "      <th>1</th>\n",
       "      <td>MainScreenAppear</td>\n",
       "      <td>247</td>\n",
       "      <td>2475</td>\n",
       "    </tr>\n",
       "    <tr>\n",
       "      <th>2</th>\n",
       "      <td>OffersScreenAppear</td>\n",
       "      <td>247</td>\n",
       "      <td>1519</td>\n",
       "    </tr>\n",
       "    <tr>\n",
       "      <th>0</th>\n",
       "      <td>CartScreenAppear</td>\n",
       "      <td>247</td>\n",
       "      <td>1159</td>\n",
       "    </tr>\n",
       "    <tr>\n",
       "      <th>3</th>\n",
       "      <td>PaymentScreenSuccessful</td>\n",
       "      <td>247</td>\n",
       "      <td>1083</td>\n",
       "    </tr>\n",
       "  </tbody>\n",
       "</table>\n",
       "</div>"
      ],
      "text/plain": [
       "                event_name  group_id  device_id\n",
       "1         MainScreenAppear       247       2475\n",
       "2       OffersScreenAppear       247       1519\n",
       "0         CartScreenAppear       247       1159\n",
       "3  PaymentScreenSuccessful       247       1083"
      ]
     },
     "metadata": {},
     "output_type": "display_data"
    },
    {
     "data": {
      "text/html": [
       "<div>\n",
       "<style scoped>\n",
       "    .dataframe tbody tr th:only-of-type {\n",
       "        vertical-align: middle;\n",
       "    }\n",
       "\n",
       "    .dataframe tbody tr th {\n",
       "        vertical-align: top;\n",
       "    }\n",
       "\n",
       "    .dataframe thead th {\n",
       "        text-align: right;\n",
       "    }\n",
       "</style>\n",
       "<table border=\"1\" class=\"dataframe\">\n",
       "  <thead>\n",
       "    <tr style=\"text-align: right;\">\n",
       "      <th></th>\n",
       "      <th>event_name</th>\n",
       "      <th>group_id</th>\n",
       "      <th>device_id</th>\n",
       "    </tr>\n",
       "  </thead>\n",
       "  <tbody>\n",
       "    <tr>\n",
       "      <th>1</th>\n",
       "      <td>MainScreenAppear</td>\n",
       "      <td>248</td>\n",
       "      <td>2493</td>\n",
       "    </tr>\n",
       "    <tr>\n",
       "      <th>2</th>\n",
       "      <td>OffersScreenAppear</td>\n",
       "      <td>248</td>\n",
       "      <td>1526</td>\n",
       "    </tr>\n",
       "    <tr>\n",
       "      <th>0</th>\n",
       "      <td>CartScreenAppear</td>\n",
       "      <td>248</td>\n",
       "      <td>1155</td>\n",
       "    </tr>\n",
       "    <tr>\n",
       "      <th>3</th>\n",
       "      <td>PaymentScreenSuccessful</td>\n",
       "      <td>248</td>\n",
       "      <td>1111</td>\n",
       "    </tr>\n",
       "  </tbody>\n",
       "</table>\n",
       "</div>"
      ],
      "text/plain": [
       "                event_name  group_id  device_id\n",
       "1         MainScreenAppear       248       2493\n",
       "2       OffersScreenAppear       248       1526\n",
       "0         CartScreenAppear       248       1155\n",
       "3  PaymentScreenSuccessful       248       1111"
      ]
     },
     "metadata": {},
     "output_type": "display_data"
    }
   ],
   "source": [
    "# Creating funnel groups:\n",
    "funnel_grp=[]\n",
    "for i in data.group_id.unique():\n",
    "    grp=data[data.group_id==i].groupby(['event_name','group_id'])['device_id'].nunique().reset_index().sort_values(by='device_id',ascending=False)\n",
    "    display(grp)\n",
    "    funnel_grp.append(grp)"
   ]
  },
  {
   "cell_type": "code",
   "execution_count": 47,
   "id": "c1038fcf",
   "metadata": {},
   "outputs": [
    {
     "data": {
      "image/png": "[encoded data removed]"
     },
     "metadata": {},
     "output_type": "display_data"
    }
   ],
   "source": [
    "fig = go.Figure()\n",
    "for funnel in funnel_grp:\n",
    "    fig.add_trace(go.Funnel(\n",
    "        name='Group '+str(funnel.group_id[0]),\n",
    "        y = funnel.event_name,\n",
    "        x = funnel.device_id,\n",
    "        textposition = \"inside\",\n",
    "        textinfo = \"value+percent initial\"))\n",
    "    \n",
    "fig.update_layout(height=600, width=900)\n",
    "fig.show(\"png\")"
   ]
  },
  {
   "cell_type": "markdown",
   "id": "e73c2573",
   "metadata": {},
   "source": [
    "As shown in the funnel graph above,  \n",
    "excluding the tutorial event, as we saw earlier we lose most of the users between the main screen and the offer screen.  \n",
    "We lost almost 37 - 39% across the group.  \n",
    "Only 45% - 46% in each group make the whole path from the main screen to the payment.\n"
   ]
  },
  {
   "cell_type": "markdown",
   "id": "38050db5",
   "metadata": {},
   "source": [
    "### 5. Experiment Results <a id=\"5\"></a> \n",
    "\n",
    "In this clause we will be performing statistical tests on the difference groups.  \n",
    "We will test both A/A groups 246 and 247 for significant difference as well as the control groups.  \n",
    "\n",
    "Our hypotheses will be as follows:  \n",
    "\n",
    "The **null hypothesis** $H_0$ would be: There is no difference between the groups.\n",
    "\n",
    "\n",
    "The null hypothesis was formulated this way based on the fact that the hypothesis testing checks wether or not a sample is equal (or close enough) to a value, or another sample. This is by definition.\n",
    "\n",
    "The **alternative hypothesis** $H_1$ would be: There is difference between the groups.\n",
    "\n",
    "We will conduct the tests with signifance level $a$ = 5%\n"
   ]
  },
  {
   "cell_type": "markdown",
   "id": "c8cb705d",
   "metadata": {},
   "source": [
    "- **The number of users in each group** <a id='5.1'></a>"
   ]
  },
  {
   "cell_type": "code",
   "execution_count": 33,
   "id": "b258c9ce",
   "metadata": {},
   "outputs": [
    {
     "data": {
      "text/html": [
       "<div>\n",
       "<style scoped>\n",
       "    .dataframe tbody tr th:only-of-type {\n",
       "        vertical-align: middle;\n",
       "    }\n",
       "\n",
       "    .dataframe tbody tr th {\n",
       "        vertical-align: top;\n",
       "    }\n",
       "\n",
       "    .dataframe thead th {\n",
       "        text-align: right;\n",
       "    }\n",
       "</style>\n",
       "<table border=\"1\" class=\"dataframe\">\n",
       "  <thead>\n",
       "    <tr style=\"text-align: right;\">\n",
       "      <th></th>\n",
       "      <th>group_id</th>\n",
       "      <th>device_id</th>\n",
       "    </tr>\n",
       "  </thead>\n",
       "  <tbody>\n",
       "    <tr>\n",
       "      <th>0</th>\n",
       "      <td>246</td>\n",
       "      <td>2484</td>\n",
       "    </tr>\n",
       "    <tr>\n",
       "      <th>1</th>\n",
       "      <td>247</td>\n",
       "      <td>2513</td>\n",
       "    </tr>\n",
       "    <tr>\n",
       "      <th>2</th>\n",
       "      <td>248</td>\n",
       "      <td>2537</td>\n",
       "    </tr>\n",
       "  </tbody>\n",
       "</table>\n",
       "</div>"
      ],
      "text/plain": [
       "   group_id  device_id\n",
       "0       246       2484\n",
       "1       247       2513\n",
       "2       248       2537"
      ]
     },
     "execution_count": 33,
     "metadata": {},
     "output_type": "execute_result"
    }
   ],
   "source": [
    "# Group by 'group_id' and calculate unique users in each group:\n",
    "rel_data.groupby('group_id')['device_id'].nunique().reset_index()\n"
   ]
  },
  {
   "cell_type": "markdown",
   "id": "28e8472c",
   "metadata": {},
   "source": [
    "- **Significant difference test between the A/A groups** <a id='5.2'></a>"
   ]
  },
  {
   "cell_type": "code",
   "execution_count": 34,
   "id": "e4a8a35b",
   "metadata": {},
   "outputs": [
    {
     "data": {
      "text/html": [
       "<div>\n",
       "<style scoped>\n",
       "    .dataframe tbody tr th:only-of-type {\n",
       "        vertical-align: middle;\n",
       "    }\n",
       "\n",
       "    .dataframe tbody tr th {\n",
       "        vertical-align: top;\n",
       "    }\n",
       "\n",
       "    .dataframe thead th {\n",
       "        text-align: right;\n",
       "    }\n",
       "</style>\n",
       "<table border=\"1\" class=\"dataframe\">\n",
       "  <thead>\n",
       "    <tr style=\"text-align: right;\">\n",
       "      <th></th>\n",
       "      <th>device_id</th>\n",
       "      <th>group_id</th>\n",
       "    </tr>\n",
       "  </thead>\n",
       "  <tbody>\n",
       "  </tbody>\n",
       "</table>\n",
       "</div>"
      ],
      "text/plain": [
       "Empty DataFrame\n",
       "Columns: [device_id, group_id]\n",
       "Index: []"
      ]
     },
     "execution_count": 34,
     "metadata": {},
     "output_type": "execute_result"
    }
   ],
   "source": [
    "# First we will re-check if we have users that are in both groups 246 and 247\n",
    "rel_data.groupby(['device_id'])['group_id'].nunique().reset_index().query('group_id>1')"
   ]
  },
  {
   "cell_type": "markdown",
   "id": "5b877b45",
   "metadata": {},
   "source": [
    "We have established once again that we dont have users that belong to both groups"
   ]
  },
  {
   "cell_type": "code",
   "execution_count": 35,
   "id": "6cf4baa3",
   "metadata": {},
   "outputs": [
    {
     "data": {
      "text/html": [
       "<div>\n",
       "<style scoped>\n",
       "    .dataframe tbody tr th:only-of-type {\n",
       "        vertical-align: middle;\n",
       "    }\n",
       "\n",
       "    .dataframe tbody tr th {\n",
       "        vertical-align: top;\n",
       "    }\n",
       "\n",
       "    .dataframe thead th {\n",
       "        text-align: right;\n",
       "    }\n",
       "</style>\n",
       "<table border=\"1\" class=\"dataframe\">\n",
       "  <thead>\n",
       "    <tr style=\"text-align: right;\">\n",
       "      <th>group_id</th>\n",
       "      <th>event_name</th>\n",
       "      <th>246</th>\n",
       "      <th>247</th>\n",
       "      <th>248</th>\n",
       "    </tr>\n",
       "  </thead>\n",
       "  <tbody>\n",
       "    <tr>\n",
       "      <th>0</th>\n",
       "      <td>CartScreenAppear</td>\n",
       "      <td>1174</td>\n",
       "      <td>1159</td>\n",
       "      <td>1155</td>\n",
       "    </tr>\n",
       "    <tr>\n",
       "      <th>1</th>\n",
       "      <td>MainScreenAppear</td>\n",
       "      <td>2450</td>\n",
       "      <td>2475</td>\n",
       "      <td>2493</td>\n",
       "    </tr>\n",
       "    <tr>\n",
       "      <th>2</th>\n",
       "      <td>OffersScreenAppear</td>\n",
       "      <td>1541</td>\n",
       "      <td>1519</td>\n",
       "      <td>1526</td>\n",
       "    </tr>\n",
       "    <tr>\n",
       "      <th>3</th>\n",
       "      <td>PaymentScreenSuccessful</td>\n",
       "      <td>1122</td>\n",
       "      <td>1083</td>\n",
       "      <td>1111</td>\n",
       "    </tr>\n",
       "    <tr>\n",
       "      <th>4</th>\n",
       "      <td>Tutorial</td>\n",
       "      <td>278</td>\n",
       "      <td>283</td>\n",
       "      <td>279</td>\n",
       "    </tr>\n",
       "  </tbody>\n",
       "</table>\n",
       "</div>"
      ],
      "text/plain": [
       "group_id               event_name   246   247   248\n",
       "0                CartScreenAppear  1174  1159  1155\n",
       "1                MainScreenAppear  2450  2475  2493\n",
       "2              OffersScreenAppear  1541  1519  1526\n",
       "3         PaymentScreenSuccessful  1122  1083  1111\n",
       "4                        Tutorial   278   283   279"
      ]
     },
     "execution_count": 35,
     "metadata": {},
     "output_type": "execute_result"
    }
   ],
   "source": [
    "# Creating a pivot table to check the propotions of the groups:\n",
    "pvt = rel_data.pivot_table(index='event_name', values='device_id', columns='group_id', aggfunc='nunique').reset_index()\n",
    "pvt"
   ]
  },
  {
   "cell_type": "code",
   "execution_count": 36,
   "id": "7139aca2",
   "metadata": {},
   "outputs": [
    {
     "data": {
      "text/html": [
       "<div>\n",
       "<style scoped>\n",
       "    .dataframe tbody tr th:only-of-type {\n",
       "        vertical-align: middle;\n",
       "    }\n",
       "\n",
       "    .dataframe tbody tr th {\n",
       "        vertical-align: top;\n",
       "    }\n",
       "\n",
       "    .dataframe thead th {\n",
       "        text-align: right;\n",
       "    }\n",
       "</style>\n",
       "<table border=\"1\" class=\"dataframe\">\n",
       "  <thead>\n",
       "    <tr style=\"text-align: right;\">\n",
       "      <th></th>\n",
       "      <th>event_name</th>\n",
       "      <th>device_id</th>\n",
       "      <th>event_timestamp</th>\n",
       "      <th>group_id</th>\n",
       "      <th>event_datetime</th>\n",
       "    </tr>\n",
       "  </thead>\n",
       "  <tbody>\n",
       "    <tr>\n",
       "      <th>2828</th>\n",
       "      <td>Tutorial</td>\n",
       "      <td>3737462046622621720</td>\n",
       "      <td>1564618048</td>\n",
       "      <td>246</td>\n",
       "      <td>2019-08-01 00:07:28</td>\n",
       "    </tr>\n",
       "    <tr>\n",
       "      <th>2829</th>\n",
       "      <td>MainScreenAppear</td>\n",
       "      <td>3737462046622621720</td>\n",
       "      <td>1564618080</td>\n",
       "      <td>246</td>\n",
       "      <td>2019-08-01 00:08:00</td>\n",
       "    </tr>\n",
       "    <tr>\n",
       "      <th>2830</th>\n",
       "      <td>MainScreenAppear</td>\n",
       "      <td>3737462046622621720</td>\n",
       "      <td>1564618135</td>\n",
       "      <td>246</td>\n",
       "      <td>2019-08-01 00:08:55</td>\n",
       "    </tr>\n",
       "    <tr>\n",
       "      <th>2831</th>\n",
       "      <td>OffersScreenAppear</td>\n",
       "      <td>3737462046622621720</td>\n",
       "      <td>1564618138</td>\n",
       "      <td>246</td>\n",
       "      <td>2019-08-01 00:08:58</td>\n",
       "    </tr>\n",
       "    <tr>\n",
       "      <th>2832</th>\n",
       "      <td>MainScreenAppear</td>\n",
       "      <td>1433840883824088890</td>\n",
       "      <td>1564618139</td>\n",
       "      <td>247</td>\n",
       "      <td>2019-08-01 00:08:59</td>\n",
       "    </tr>\n",
       "    <tr>\n",
       "      <th>...</th>\n",
       "      <td>...</td>\n",
       "      <td>...</td>\n",
       "      <td>...</td>\n",
       "      <td>...</td>\n",
       "      <td>...</td>\n",
       "    </tr>\n",
       "    <tr>\n",
       "      <th>244121</th>\n",
       "      <td>MainScreenAppear</td>\n",
       "      <td>4599628364049201812</td>\n",
       "      <td>1565212345</td>\n",
       "      <td>247</td>\n",
       "      <td>2019-08-07 21:12:25</td>\n",
       "    </tr>\n",
       "    <tr>\n",
       "      <th>244122</th>\n",
       "      <td>MainScreenAppear</td>\n",
       "      <td>5849806612437486590</td>\n",
       "      <td>1565212439</td>\n",
       "      <td>246</td>\n",
       "      <td>2019-08-07 21:13:59</td>\n",
       "    </tr>\n",
       "    <tr>\n",
       "      <th>244123</th>\n",
       "      <td>MainScreenAppear</td>\n",
       "      <td>5746969938801999050</td>\n",
       "      <td>1565212483</td>\n",
       "      <td>246</td>\n",
       "      <td>2019-08-07 21:14:43</td>\n",
       "    </tr>\n",
       "    <tr>\n",
       "      <th>244124</th>\n",
       "      <td>MainScreenAppear</td>\n",
       "      <td>5746969938801999050</td>\n",
       "      <td>1565212498</td>\n",
       "      <td>246</td>\n",
       "      <td>2019-08-07 21:14:58</td>\n",
       "    </tr>\n",
       "    <tr>\n",
       "      <th>244125</th>\n",
       "      <td>OffersScreenAppear</td>\n",
       "      <td>5746969938801999050</td>\n",
       "      <td>1565212517</td>\n",
       "      <td>246</td>\n",
       "      <td>2019-08-07 21:15:17</td>\n",
       "    </tr>\n",
       "  </tbody>\n",
       "</table>\n",
       "<p>217898 rows × 5 columns</p>\n",
       "</div>"
      ],
      "text/plain": [
       "                event_name            device_id  event_timestamp  group_id  \\\n",
       "2828              Tutorial  3737462046622621720       1564618048       246   \n",
       "2829      MainScreenAppear  3737462046622621720       1564618080       246   \n",
       "2830      MainScreenAppear  3737462046622621720       1564618135       246   \n",
       "2831    OffersScreenAppear  3737462046622621720       1564618138       246   \n",
       "2832      MainScreenAppear  1433840883824088890       1564618139       247   \n",
       "...                    ...                  ...              ...       ...   \n",
       "244121    MainScreenAppear  4599628364049201812       1565212345       247   \n",
       "244122    MainScreenAppear  5849806612437486590       1565212439       246   \n",
       "244123    MainScreenAppear  5746969938801999050       1565212483       246   \n",
       "244124    MainScreenAppear  5746969938801999050       1565212498       246   \n",
       "244125  OffersScreenAppear  5746969938801999050       1565212517       246   \n",
       "\n",
       "            event_datetime  \n",
       "2828   2019-08-01 00:07:28  \n",
       "2829   2019-08-01 00:08:00  \n",
       "2830   2019-08-01 00:08:55  \n",
       "2831   2019-08-01 00:08:58  \n",
       "2832   2019-08-01 00:08:59  \n",
       "...                    ...  \n",
       "244121 2019-08-07 21:12:25  \n",
       "244122 2019-08-07 21:13:59  \n",
       "244123 2019-08-07 21:14:43  \n",
       "244124 2019-08-07 21:14:58  \n",
       "244125 2019-08-07 21:15:17  \n",
       "\n",
       "[217898 rows x 5 columns]"
      ]
     },
     "execution_count": 36,
     "metadata": {},
     "output_type": "execute_result"
    }
   ],
   "source": [
    "rel_data"
   ]
  },
  {
   "cell_type": "markdown",
   "id": "01d6c025",
   "metadata": {},
   "source": [
    "We can now make Z-tests for proportions in our groups. We will create a custom functions for this whole operation"
   ]
  },
  {
   "cell_type": "code",
   "execution_count": 37,
   "id": "fd96995c",
   "metadata": {},
   "outputs": [],
   "source": [
    "def check_hypothesis(df,group1,group2,group3,event,alpha=0.05,combined=False):\n",
    "    \"\"\"Perform a statistical Z-test (Proportions Tets) between 2 or 3 groups\n",
    "\n",
    "    Parameters:\n",
    "    df (DataFrame): Data Frame containing the relevant data groups\n",
    "    group1 (str): First group to be tested\n",
    "    group2 (str): Second group to be tested\n",
    "    group3 (str): Third group to be tested\n",
    "    event (str): Name of the event to be tested\n",
    "    alpha (float): Signifance Level\n",
    "    combined(bool): True for combining group1 and group2 and test against group3\n",
    "\n",
    "    Returns:\n",
    "    float:P-Value\n",
    "    str: Rejection\\Acceptance of Null Hypothesis\n",
    "\n",
    "   \"\"\"\n",
    "    success1=pvt[pvt.event_name==event][group1].iloc[0]\n",
    "    success2=pvt[pvt.event_name==event][group2].iloc[0]\n",
    "    \n",
    "    \n",
    "    trials1=df[df.group_id==group1]['device_id'].nunique()\n",
    "    trials2=df[df.group_id==group2]['device_id'].nunique()\n",
    "\n",
    "    \n",
    "    if (combined):\n",
    "        success3=pvt[pvt.event_name==event][group3].iloc[0]\n",
    "        trials3=df[df.group_id==group3]['device_id'].nunique()\n",
    "    \n",
    "    \n",
    "    # success proportion in the first group:\n",
    "    if (combined):\n",
    "        p1 = (success1+success2) / (trials1+trials2)\n",
    "    else:\n",
    "        p1 = success1/trials1\n",
    "\n",
    "\n",
    "    # success proportion in the second group:\n",
    "    if (combined):\n",
    "        p2 = success3/trials3\n",
    "    else:\n",
    "        p2 = success2/trials2\n",
    "\n",
    "    # success proportion in the combined dataset:\n",
    "    if (combined):\n",
    "        p_combined =(success1 + success2 + success3) / (trials1 + trials2 + trials3)\n",
    "    else:\n",
    "        p_combined = (success1 + success2) / (trials1 + trials2)\n",
    "\n",
    "    # the difference between the datasets' proportions\n",
    "    difference = p1 - p2\n",
    "    # calculating the statistic in standard deviations of the standard normal distribution\n",
    "    if (combined):\n",
    "        z_value = difference / math.sqrt(p_combined * (1 - p_combined) * (1/trials1 + 1/trials2+ 1/trials3))\n",
    "    else:\n",
    "        z_value = difference / math.sqrt(p_combined * (1 - p_combined) * (1/trials1 + 1/trials2))\n",
    "\n",
    "    # setting up the standard normal distribution (mean 0, standard deviation 1)\n",
    "    distr = st.norm(0, 1)\n",
    "    # calculating the statistic in standard deviations of the standard normal distribution\n",
    "\n",
    "\n",
    "    p_value = (1 - distr.cdf(abs(z_value))) * 2\n",
    "\n",
    "    print('p-value: ', p_value)\n",
    "    \n",
    "    if (combined):\n",
    "            if (p_value < alpha ):\n",
    "                print(\"Rejecting the null hypothesis for\", event,\"in the combined A/A groups and the control group\", group3)\n",
    "            else:\n",
    "                print(\"Failed to reject the null hypothesis for\",event,\"in the combined A/A groups and the control group\", group3)\n",
    "    else:\n",
    "        if (p_value < alpha ):\n",
    "            print(\"Rejecting the null hypothesis for\", event,\"in groups\", group1,group2)\n",
    "        else:\n",
    "            print(\"Failed to reject the null hypothesis for\",event,\"in groups\", group1,group2 )    "
   ]
  },
  {
   "cell_type": "code",
   "execution_count": 38,
   "id": "3f914a5b",
   "metadata": {},
   "outputs": [
    {
     "name": "stdout",
     "output_type": "stream",
     "text": [
      "Help on function check_hypothesis in module __main__:\n",
      "\n",
      "check_hypothesis(df, group1, group2, group3, event, alpha=0.05, combined=False)\n",
      "    Perform a statistical Z-test (Proportions Tets) between 2 or 3 groups\n",
      "    \n",
      "    Parameters:\n",
      "    df (DataFrame): Data Frame containing the relevant data groups\n",
      "    group1 (str): First group to be tested\n",
      "    group2 (str): Second group to be tested\n",
      "    group3 (str): Third group to be tested\n",
      "    event (str): Name of the event to be tested\n",
      "    alpha (float): Signifance Level\n",
      "    combined(bool): True for combining group1 and group2 and test against group3\n",
      "    \n",
      "    Returns:\n",
      "    float:P-Value\n",
      "    str: Rejection\\Acceptance of Null Hypothesis\n",
      "\n"
     ]
    }
   ],
   "source": [
    "# Checking Docstrings\n",
    "help(check_hypothesis)"
   ]
  },
  {
   "cell_type": "code",
   "execution_count": 39,
   "id": "def7eaa3",
   "metadata": {},
   "outputs": [
    {
     "name": "stdout",
     "output_type": "stream",
     "text": [
      "p-value:  0.41836972926292404\n",
      "Failed to reject the null hypothesis for CartScreenAppear in groups 246 247\n"
     ]
    }
   ],
   "source": [
    "# Checking the function :)\n",
    "check_hypothesis(rel_data,246,247,248,'CartScreenAppear')"
   ]
  },
  {
   "cell_type": "markdown",
   "id": "f054e25d",
   "metadata": {},
   "source": [
    "**Ok, Function works. Now we will loop it over all of the events.**"
   ]
  },
  {
   "cell_type": "code",
   "execution_count": 40,
   "id": "62a1725b",
   "metadata": {},
   "outputs": [
    {
     "name": "stdout",
     "output_type": "stream",
     "text": [
      "p-value:  0.41836972926292404\n",
      "Failed to reject the null hypothesis for CartScreenAppear in groups 246 247\n",
      "\n",
      "p-value:  0.6706601610518881\n",
      "Failed to reject the null hypothesis for MainScreenAppear in groups 246 247\n",
      "\n",
      "p-value:  0.24832332591851847\n",
      "Failed to reject the null hypothesis for OffersScreenAppear in groups 246 247\n",
      "\n",
      "p-value:  0.14002096506482054\n",
      "Failed to reject the null hypothesis for PaymentScreenSuccessful in groups 246 247\n",
      "\n"
     ]
    }
   ],
   "source": [
    "# Running the functions over each of the events for the A/A testing groups:\n",
    "for event in pvt.event_name.unique():\n",
    "    if event != 'Tutorial':\n",
    "        check_hypothesis(rel_data,246,247,0,event)\n",
    "        print()\n",
    "        "
   ]
  },
  {
   "cell_type": "markdown",
   "id": "ac06e444",
   "metadata": {},
   "source": [
    "**Findings:** We failed to reject the null hypothesis for each of the event in both A/A testing groups. This means that the A/A test is successfull since there is no significant different between the A/A groups 246 and 247."
   ]
  },
  {
   "cell_type": "markdown",
   "id": "19af660d",
   "metadata": {},
   "source": [
    "- **Significant difference between the A/B groups** <a id='5.3'></a>"
   ]
  },
  {
   "cell_type": "code",
   "execution_count": 41,
   "id": "4b5df759",
   "metadata": {},
   "outputs": [
    {
     "name": "stdout",
     "output_type": "stream",
     "text": [
      "p-value:  0.2174036500463501\n",
      "Failed to reject the null hypothesis for CartScreenAppear in groups 246 248\n",
      "\n",
      "p-value:  0.2949721933554552\n",
      "Failed to reject the null hypothesis for MainScreenAppear in groups 246 248\n",
      "\n",
      "p-value:  0.17027180234958306\n",
      "Failed to reject the null hypothesis for OffersScreenAppear in groups 246 248\n",
      "\n",
      "p-value:  0.3261816838044478\n",
      "Failed to reject the null hypothesis for PaymentScreenSuccessful in groups 246 248\n",
      "\n"
     ]
    }
   ],
   "source": [
    "# Running the functions over each of the events for the A/B testing groups 246 and 248:\n",
    "for event in pvt.event_name.unique():\n",
    "    if event != 'Tutorial':\n",
    "        check_hypothesis(rel_data,246,248,0,event)\n",
    "        print()"
   ]
  },
  {
   "cell_type": "markdown",
   "id": "ea8b3cb2",
   "metadata": {},
   "source": [
    "**Findings:** We failed to reject the null hypothesis for each of the event in both A/B testing groups. This means that there is no significant different between the A/B groups 246 and 248."
   ]
  },
  {
   "cell_type": "code",
   "execution_count": 42,
   "id": "dafee485",
   "metadata": {},
   "outputs": [
    {
     "name": "stdout",
     "output_type": "stream",
     "text": [
      "p-value:  0.6718818120786816\n",
      "Failed to reject the null hypothesis for CartScreenAppear in groups 247 248\n",
      "\n",
      "p-value:  0.5321989221028889\n",
      "Failed to reject the null hypothesis for MainScreenAppear in groups 247 248\n",
      "\n",
      "p-value:  0.8298611914457079\n",
      "Failed to reject the null hypothesis for OffersScreenAppear in groups 247 248\n",
      "\n",
      "p-value:  0.617860113650988\n",
      "Failed to reject the null hypothesis for PaymentScreenSuccessful in groups 247 248\n",
      "\n"
     ]
    }
   ],
   "source": [
    "# Running the functions over each of the events for the A/B testing groups 247 and 248:\n",
    "for event in pvt.event_name.unique():\n",
    "    if event != 'Tutorial':\n",
    "        check_hypothesis(rel_data,247,248,0,event)\n",
    "        print()"
   ]
  },
  {
   "cell_type": "markdown",
   "id": "1af6ac9f",
   "metadata": {},
   "source": [
    "**Findings:** We failed to reject the null hypothesis for each of the event in both A/B testing groups. This means that there is no significant different between the A/B groups 247 and 248."
   ]
  },
  {
   "cell_type": "markdown",
   "id": "cc0d301d",
   "metadata": {},
   "source": [
    "- **Significant difference between the A/A/B groups** <a id='5.4'></a>"
   ]
  },
  {
   "cell_type": "code",
   "execution_count": 43,
   "id": "fee72d90",
   "metadata": {},
   "outputs": [
    {
     "name": "stdout",
     "output_type": "stream",
     "text": [
      "p-value:  0.5002407026768461\n",
      "Failed to reject the null hypothesis for CartScreenAppear in the combined A/A groups and the control group 248\n",
      "\n",
      "p-value:  0.49045461508053734\n",
      "Failed to reject the null hypothesis for MainScreenAppear in the combined A/A groups and the control group 248\n",
      "\n",
      "p-value:  0.5193374525960561\n",
      "Failed to reject the null hypothesis for OffersScreenAppear in the combined A/A groups and the control group 248\n",
      "\n",
      "p-value:  0.8453837393508368\n",
      "Failed to reject the null hypothesis for PaymentScreenSuccessful in the combined A/A groups and the control group 248\n",
      "\n"
     ]
    }
   ],
   "source": [
    "# Running the functions over each of the events for the A/A/B testing groups 246 combined with 247 and 248:\n",
    "for event in pvt.event_name.unique():\n",
    "    if event != 'Tutorial':\n",
    "        check_hypothesis(rel_data,246,247,248,event,combined=True)\n",
    "        print()"
   ]
  },
  {
   "cell_type": "markdown",
   "id": "40097ade",
   "metadata": {},
   "source": [
    "**Findings:** We failed to reject the null hypothesis for each of the event in the A/A/B testing groups. This means that there is no significant different between the combined A/A groups 246, 247 and the control group 248."
   ]
  },
  {
   "cell_type": "markdown",
   "id": "6ddb75aa",
   "metadata": {},
   "source": [
    "#### Conclusions <a id='conclusions'></a>\n",
    "We have tested if there is a difference between the following groups of signifance of $a$ = 5%:\n",
    " - A\\A groups 246 and 247\n",
    " - A\\B groups 246 and 248\n",
    " - A\\B groups 247 and 248\n",
    " - A\\A\\B combined A\\A group 246,247 and control group 248 \n",
    "\n",
    "In all these tests, in each of the events, we failed the reject the null hypothesis which said that the groups are different.  \n",
    "\n",
    "The A/A test groups made us conclude that the procedure of data collection was ok.  \n",
    "\n",
    "Both of A/B tests made us conclude that the change in the font in the web pages (events) did not generate any signifcant difference in user behavior considering signifance level of $a$ = 5%"
   ]
  },
  {
   "cell_type": "markdown",
   "id": "a9ef794a",
   "metadata": {},
   "source": [
    "- **The Bonferroni correction** <a id='5.5'></a>\n",
    "\n",
    "We have concluded multiple tests on the same population, this means that we need to adjust the signifance level $a$ in order to prevent false discoveries.  \n",
    "We will adjust the signifance level $a$ according the Bonferroni formula as follows..."
   ]
  },
  {
   "cell_type": "code",
   "execution_count": 44,
   "id": "5470f5b6",
   "metadata": {},
   "outputs": [
    {
     "name": "stdout",
     "output_type": "stream",
     "text": [
      "We have concluded 16 tests\n"
     ]
    }
   ],
   "source": [
    "# Calculate the amount of tests:\n",
    "num_groups = 4\n",
    "num_events = 4\n",
    "m = num_groups * num_events\n",
    "print('We have concluded',m,'tests')"
   ]
  },
  {
   "cell_type": "code",
   "execution_count": 45,
   "id": "08cf88e1",
   "metadata": {},
   "outputs": [
    {
     "name": "stdout",
     "output_type": "stream",
     "text": [
      "The new signficance level alpha is 0.003\n"
     ]
    }
   ],
   "source": [
    "# Calculating new signifant level:\n",
    "alpha = 0.05\n",
    "alpha = alpha / m\n",
    "print('The new signficance level alpha is {:.3f}'.format(alpha))"
   ]
  },
  {
   "cell_type": "markdown",
   "id": "b5b03ebb",
   "metadata": {},
   "source": [
    "**We have adjusted the signifance level according the Bonferroni correction and now it is 0.003**  \n",
    "\n",
    "We will repeat the tests using the new signifance level and draw conclusions.\n"
   ]
  },
  {
   "cell_type": "code",
   "execution_count": 46,
   "id": "b11e7175",
   "metadata": {},
   "outputs": [
    {
     "name": "stdout",
     "output_type": "stream",
     "text": [
      "p-value:  0.41836972926292404\n",
      "Failed to reject the null hypothesis for CartScreenAppear in groups 246 247\n",
      "\n",
      "p-value:  0.2174036500463501\n",
      "Failed to reject the null hypothesis for CartScreenAppear in groups 246 248\n",
      "\n",
      "p-value:  0.6718818120786816\n",
      "Failed to reject the null hypothesis for CartScreenAppear in groups 247 248\n",
      "\n",
      "p-value:  0.5002407026768461\n",
      "Failed to reject the null hypothesis for CartScreenAppear in the combined A/A groups and the control group 248\n",
      "\n",
      "p-value:  0.6706601610518881\n",
      "Failed to reject the null hypothesis for MainScreenAppear in groups 246 247\n",
      "\n",
      "p-value:  0.2949721933554552\n",
      "Failed to reject the null hypothesis for MainScreenAppear in groups 246 248\n",
      "\n",
      "p-value:  0.5321989221028889\n",
      "Failed to reject the null hypothesis for MainScreenAppear in groups 247 248\n",
      "\n",
      "p-value:  0.49045461508053734\n",
      "Failed to reject the null hypothesis for MainScreenAppear in the combined A/A groups and the control group 248\n",
      "\n",
      "p-value:  0.24832332591851847\n",
      "Failed to reject the null hypothesis for OffersScreenAppear in groups 246 247\n",
      "\n",
      "p-value:  0.17027180234958306\n",
      "Failed to reject the null hypothesis for OffersScreenAppear in groups 246 248\n",
      "\n",
      "p-value:  0.8298611914457079\n",
      "Failed to reject the null hypothesis for OffersScreenAppear in groups 247 248\n",
      "\n",
      "p-value:  0.5193374525960561\n",
      "Failed to reject the null hypothesis for OffersScreenAppear in the combined A/A groups and the control group 248\n",
      "\n",
      "p-value:  0.14002096506482054\n",
      "Failed to reject the null hypothesis for PaymentScreenSuccessful in groups 246 247\n",
      "\n",
      "p-value:  0.3261816838044478\n",
      "Failed to reject the null hypothesis for PaymentScreenSuccessful in groups 246 248\n",
      "\n",
      "p-value:  0.617860113650988\n",
      "Failed to reject the null hypothesis for PaymentScreenSuccessful in groups 247 248\n",
      "\n",
      "p-value:  0.8453837393508368\n",
      "Failed to reject the null hypothesis for PaymentScreenSuccessful in the combined A/A groups and the control group 248\n",
      "\n"
     ]
    }
   ],
   "source": [
    "# Re-testing using the same function and new alpha\n",
    "for event in pvt.event_name.unique():\n",
    "    if event != 'Tutorial':\n",
    "        check_hypothesis(rel_data,246,247,0,event,alpha=0.003)\n",
    "        print()\n",
    "        check_hypothesis(rel_data,246,248,0,event,alpha=0.003)\n",
    "        print()\n",
    "        check_hypothesis(rel_data,247,248,0,event,alpha=0.003)\n",
    "        print()\n",
    "        check_hypothesis(rel_data,246,247,248,event,alpha=0.003,combined=True)\n",
    "        print()\n"
   ]
  },
  {
   "cell_type": "markdown",
   "id": "5cc1e040",
   "metadata": {},
   "source": [
    "**Conclusions**  \n",
    "Even after adjusting the signifance level according to the Benforroni correction, which is the most conservative method, we still failed to reject the null hypothesis, which means the font change will **not** have any impact on user behavior."
   ]
  }
 ],
 "metadata": {
  "ExecuteTimeLog": [
   {
    "duration": 3423,
    "start_time": "2022-05-07T11:58:47.957Z"
   },
   {
    "duration": 671,
    "start_time": "2022-05-07T11:58:51.382Z"
   },
   {
    "duration": 14,
    "start_time": "2022-05-07T11:58:52.055Z"
   },
   {
    "duration": 25,
    "start_time": "2022-05-07T11:58:52.071Z"
   },
   {
    "duration": 7,
    "start_time": "2022-05-07T11:58:52.098Z"
   },
   {
    "duration": 14,
    "start_time": "2022-05-07T11:58:52.106Z"
   },
   {
    "duration": 80,
    "start_time": "2022-05-07T11:58:52.121Z"
   },
   {
    "duration": 79,
    "start_time": "2022-05-07T11:58:52.203Z"
   },
   {
    "duration": 9,
    "start_time": "2022-05-07T11:58:52.284Z"
   },
   {
    "duration": 422,
    "start_time": "2022-05-07T11:58:52.295Z"
   },
   {
    "duration": 81,
    "start_time": "2022-05-07T11:58:52.719Z"
   },
   {
    "duration": 43,
    "start_time": "2022-05-07T11:58:52.801Z"
   },
   {
    "duration": 64,
    "start_time": "2022-05-07T11:58:52.846Z"
   },
   {
    "duration": 19,
    "start_time": "2022-05-07T11:58:52.913Z"
   },
   {
    "duration": 10,
    "start_time": "2022-05-07T11:58:52.933Z"
   },
   {
    "duration": 39,
    "start_time": "2022-05-07T11:58:52.945Z"
   },
   {
    "duration": 5,
    "start_time": "2022-05-07T11:58:52.985Z"
   },
   {
    "duration": 5349,
    "start_time": "2022-05-07T11:58:52.991Z"
   },
   {
    "duration": 33,
    "start_time": "2022-05-07T11:58:58.342Z"
   },
   {
    "duration": 3,
    "start_time": "2022-05-07T11:58:58.377Z"
   },
   {
    "duration": 33,
    "start_time": "2022-05-07T11:58:58.382Z"
   },
   {
    "duration": 25,
    "start_time": "2022-05-07T11:58:58.472Z"
   },
   {
    "duration": 104,
    "start_time": "2022-05-07T11:58:58.499Z"
   },
   {
    "duration": 215,
    "start_time": "2022-05-07T11:58:58.605Z"
   },
   {
    "duration": 8,
    "start_time": "2022-05-07T11:58:58.821Z"
   },
   {
    "duration": 13345,
    "start_time": "2022-05-07T11:58:58.874Z"
   },
   {
    "duration": 11,
    "start_time": "2022-05-07T11:59:12.220Z"
   },
   {
    "duration": 742,
    "start_time": "2022-05-07T11:59:12.232Z"
   },
   {
    "duration": 12,
    "start_time": "2022-05-07T11:59:12.976Z"
   },
   {
    "duration": 18,
    "start_time": "2022-05-07T11:59:12.990Z"
   },
   {
    "duration": 96,
    "start_time": "2022-05-07T11:59:13.009Z"
   },
   {
    "duration": 14,
    "start_time": "2022-05-07T11:59:13.106Z"
   },
   {
    "duration": 54,
    "start_time": "2022-05-07T11:59:13.121Z"
   },
   {
    "duration": 42,
    "start_time": "2022-05-07T11:59:13.177Z"
   },
   {
    "duration": 87,
    "start_time": "2022-05-07T11:59:13.221Z"
   },
   {
    "duration": 8,
    "start_time": "2022-05-07T11:59:13.309Z"
   },
   {
    "duration": 25,
    "start_time": "2022-05-07T11:59:13.318Z"
   },
   {
    "duration": 68,
    "start_time": "2022-05-07T11:59:13.345Z"
   },
   {
    "duration": 73,
    "start_time": "2022-05-07T11:59:13.415Z"
   },
   {
    "duration": 52,
    "start_time": "2022-05-07T11:59:13.490Z"
   },
   {
    "duration": 99,
    "start_time": "2022-05-07T11:59:13.545Z"
   },
   {
    "duration": 5,
    "start_time": "2022-05-07T11:59:13.646Z"
   },
   {
    "duration": 6,
    "start_time": "2022-05-07T11:59:13.653Z"
   },
   {
    "duration": 260,
    "start_time": "2022-05-07T11:59:13.674Z"
   },
   {
    "duration": 20,
    "start_time": "2022-05-07T12:50:01.042Z"
   },
   {
    "duration": 6,
    "start_time": "2022-05-07T12:50:19.359Z"
   },
   {
    "duration": 4,
    "start_time": "2022-05-07T12:51:48.366Z"
   }
  ],
  "kernelspec": {
   "display_name": "Python 3 (ipykernel)",
   "language": "python",
   "name": "python3"
  },
  "language_info": {
   "codemirror_mode": {
    "name": "ipython",
    "version": 3
   },
   "file_extension": ".py",
   "mimetype": "text/x-python",
   "name": "python",
   "nbconvert_exporter": "python",
   "pygments_lexer": "ipython3",
   "version": "3.9.7"
  },
  "toc": {
   "base_numbering": 1,
   "nav_menu": {},
   "number_sections": true,
   "sideBar": true,
   "skip_h1_title": true,
   "title_cell": "Table of Contents",
   "title_sidebar": "Contents",
   "toc_cell": false,
   "toc_position": {},
   "toc_section_display": true,
   "toc_window_display": false
  }
 },
 "nbformat": 4,
 "nbformat_minor": 5
}
